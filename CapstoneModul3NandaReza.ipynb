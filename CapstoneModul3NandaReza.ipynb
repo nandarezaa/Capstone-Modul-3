{
 "cells": [
  {
   "cell_type": "code",
   "execution_count": 1,
   "id": "f6f2e4e8-9c47-4de6-a9b7-72508c690a1b",
   "metadata": {},
   "outputs": [],
   "source": [
    "import pandas as pd\n",
    "import numpy as np\n",
    "import seaborn as sns\n",
    "import matplotlib.pyplot as plt\n",
    "from sklearn.model_selection import train_test_split\n",
    "from imblearn.over_sampling import RandomOverSampler, SMOTENC,SMOTE\n",
    "from sklearn.model_selection import train_test_split, StratifiedKFold, GridSearchCV, ShuffleSplit, RandomizedSearchCV, cross_val_score\n",
    "from sklearn.metrics import accuracy_score, recall_score, precision_score, f1_score, confusion_matrix, classification_report, plot_confusion_matrix, roc_auc_score\n",
    "from sklearn.pipeline import Pipeline\n",
    "from sklearn.preprocessing import OneHotEncoder,StandardScaler,MinMaxScaler\n",
    "from sklearn.compose import ColumnTransformer\n",
    "import category_encoders as ce\n",
    "from sklearn.pipeline import Pipeline\n",
    "import warnings\n",
    "warnings.filterwarnings('ignore')\n",
    "from imblearn.over_sampling import RandomOverSampler,SMOTE\n",
    "from imblearn.under_sampling import RandomUnderSampler,NearMiss\n",
    "from sklearn.metrics import accuracy_score, confusion_matrix, recall_score, precision_score, classification_report, f1_score, fbeta_score, make_scorer\n",
    "from sklearn.linear_model import LogisticRegression\n",
    "from sklearn.tree import DecisionTreeClassifier\n",
    "from sklearn.neighbors import KNeighborsClassifier\n",
    "from sklearn.ensemble import RandomForestClassifier,AdaBoostClassifier,GradientBoostingClassifier \n",
    "from xgboost.sklearn import XGBClassifier\n"
   ]
  },
  {
   "cell_type": "markdown",
   "id": "d1ad6c69-4502-438b-a6bd-288e92c04572",
   "metadata": {},
   "source": [
    "# Bussiness Understanding\n",
    "**Context**\n",
    "\n",
    "Perkembangan teknologi telah mentransformasi industri telekomunikasi didunia. Pergeseran telekomunikasi *legacy* (voice dan sms) menjadi teknologi berbasis data didukung oleh perkembangan internet yang begitu masif dan bersifat global. Banyak perusahaan telekomunikasi membuat pelanggan yang telah berlangganan melakukan *Churn*. *Churn* adalah pemutusan layanan jasa telekomunikasi oleh pelanggan atau perusahaan. Perusahaan akan lebih mempertahankan pelanggan, sebab dibutuhkan biaya yang lebih sedikit dibandingkan dengan mencari pelanggan baru.\n",
    "\n",
    "Suatu perusahaan provider ingin mengetahui behavior pelanggan yang ingin melakukan pemberhentian/pindah (churn) dan mengurangi jumlah pelanggan yang *churn*. Dilakukan sebuah model prediksi yang tepat untuk menentukan pelanggan yang berhenti berlangganan (churn) atau tidak menggunakan machine learning. Dengan target yang ditentukan sebagai berikut :\n",
    "\n",
    "Target: \n",
    "* 0 : Tidak berhenti berlangganan \n",
    "* 1 : Berhenti berlangganan (Churn)\n"
   ]
  },
  {
   "cell_type": "markdown",
   "id": "507bb68a-5412-4fd0-a10d-4939cb88e23e",
   "metadata": {},
   "source": [
    "# Problem Statement\n",
    "\n",
    "Pada suatu perusahaan tingginya pelanggan yang melakukan *Churn* merupakan suatu indikator tingkat kegagalan suatu perusahaan telekomunikasi. Sehingga diperlukan upaya untuk mengurangi persentase pelanggan yang melakukan *Churn*. Seperti disebutkan sebelumnya bahwa untuk mencari pelanggan lebih dibutuhkan biaya yang lebih besar dibandingkan mempertahankan pelanggan dimana dibutuhkan **5 kali lebih besar** biaya dibandingkan mempertahankan pelanggan( [sumber](https://www.outboundengine.com/blog/customer-retention-marketing-vs-customer-acquisition-marketing/).). Menurut [sumber](https://www.woopra.com/blog/churn-rate-vs-retention-rate#:~:text=Customer%20churn%20rate%20is%20the,up%20and%20stay%20with%20you.) )apabila kita melakukan suatu *ads* untuk menarik pelanggan baru dgn biaya sebesar 100 dolar perbulan untuk mendapatkan pelanggan baru dan biaya perpelanggan perbulan sebesar 50 dolar, maka setidaknya setiap bulan harus ada 2 pelanggan untuk menutup biaya pelanggan baru tersebut. Salah satu cara perusahaan telekomunikasi mempertahankan pelanggannya agar tidak melakukan Churn yaitu memberikan insentif retensi terhadap pelanggan. Insentif retensi terdiri dari berbagai macam seperti memberikan potongan harga, memberikan paket layanan yang menarik, memberikan prioritas pelayanan dan lain-lain. Namun, kebijakan pemberian insentif retensi belum dilakukan secara efektif. Kebijakan tersebut sering ditemui berbagai kendala bahkan membuat\n",
    "perusahaan semakin merugi. "
   ]
  },
  {
   "cell_type": "markdown",
   "id": "3693045a-6dd3-450e-b459-dee8c0690f4e",
   "metadata": {},
   "source": [
    "## Goals\n",
    "\n",
    "Sehingga dari permasalahan yang ada, perusahaan ingin memiliki kemampuan untuk dilakukannya prediksi kemungkinan seorang pelanggan akan berhenti berlangganan atau tidak. Untuk memfokuskan upaya retensi(tetap berelanggan) pada pelanggan yang terindikasi akan melakukan *Churn*. Selain itu juga agar perusahaan mengetahui faktor yang memengaruhi pelanggan bertahan agar strategi bisnis yang dilakukan tepat dengan keinginan pelanggan untuk menurunkan tingkat dari pelanggan yang *Churn*."
   ]
  },
  {
   "cell_type": "markdown",
   "id": "e143e1ce-638a-486b-b6be-232f02acf781",
   "metadata": {},
   "source": [
    "## Analytics Approach\n",
    "\n",
    "Akan dilakukan analisa bagaimana faktor pembeda dari pelanggan yang melakukan *Churn* dan tidak. selanjutnya akan dibuat model klasifikasi untuk memprediksi probabilitas dari pelanggan akan melakukan *Churn* atau tidak."
   ]
  },
  {
   "cell_type": "markdown",
   "id": "c2ded6fc-dbac-454a-b55f-37ef0052652b",
   "metadata": {},
   "source": [
    "# Metric Evaluation\n",
    "\n",
    "Target utama dalam masalah ini adalah pelanggan yang berhenti berlangganan (Churn), seperti target yang sudah disebutkan pada context sebelumnya yaitu:\n",
    "\n",
    "Target:\n",
    "* 0 : Tidak berhenti berlangganan \n",
    "* 1 : Berhenti berlangganan (Churn)\n",
    "\n",
    "False Positive (FP) yaitu pelanggan yang aktualnya tidak tetapi diprediksi churn.\n",
    "konsekuensi : tidak efektif dalam pemberian insentif. <br>\n",
    "False negative(FN) yaitu pelanggan yang aktualnya churn tetapi diprediksi tidak akan churn. konsekuensi kehilangan pelanggan.\n",
    "\n",
    "Berdasarkan konsekuensi yang ada, akan dibuat model yang akan mengurangi resiko kehilangan pelanggan karena untuk mendapatkan pelanggan baru membutuhkan biaya lebih banyak dibandingkan kita mempertahankan pelanggan yang ada. Sehingga kita akan fokus pada nilai FN dengan mendapatkan nilai **recall** yang tinggi dan tetap membandingkan nilai **precision** agar tidak terlalu jauh. Kita ingin recall dan precisionya seimbang sehingga digunakan metric **f1_score** dengan data yang *imbalance*. Dilakukan juga Sampling *Undersampling (NearMiss)* dan *Oversampling(SMOTE)*. Selanjutnya akan dibandingkan model mana yang paling cocok untuk digunakan pada kasus ini."
   ]
  },
  {
   "cell_type": "markdown",
   "id": "d3693b02-b73e-4a49-bfa1-cb6a47a28725",
   "metadata": {},
   "source": [
    "* Sumber data : https://drive.google.com/file/d/1oB5uKtJr7dWcWr9Ld5ZFAuVkpV005ceH/view\n",
    "* Pembuat data : IBM\n",
    "* Periode pembuatan data : Juli 2019"
   ]
  },
  {
   "cell_type": "code",
   "execution_count": 2,
   "id": "f2fb6440-a088-4084-9b10-b9fb8d78bbfe",
   "metadata": {},
   "outputs": [],
   "source": [
    "df=pd.read_csv('data_telco_customer_churn.csv')"
   ]
  },
  {
   "cell_type": "code",
   "execution_count": 3,
   "id": "878fabad-cf35-4924-89d6-1f68273c57bf",
   "metadata": {},
   "outputs": [
    {
     "data": {
      "text/html": [
       "<div>\n",
       "<style scoped>\n",
       "    .dataframe tbody tr th:only-of-type {\n",
       "        vertical-align: middle;\n",
       "    }\n",
       "\n",
       "    .dataframe tbody tr th {\n",
       "        vertical-align: top;\n",
       "    }\n",
       "\n",
       "    .dataframe thead th {\n",
       "        text-align: right;\n",
       "    }\n",
       "</style>\n",
       "<table border=\"1\" class=\"dataframe\">\n",
       "  <thead>\n",
       "    <tr style=\"text-align: right;\">\n",
       "      <th></th>\n",
       "      <th>Dependents</th>\n",
       "      <th>tenure</th>\n",
       "      <th>OnlineSecurity</th>\n",
       "      <th>OnlineBackup</th>\n",
       "      <th>InternetService</th>\n",
       "      <th>DeviceProtection</th>\n",
       "      <th>TechSupport</th>\n",
       "      <th>Contract</th>\n",
       "      <th>PaperlessBilling</th>\n",
       "      <th>MonthlyCharges</th>\n",
       "      <th>Churn</th>\n",
       "    </tr>\n",
       "  </thead>\n",
       "  <tbody>\n",
       "    <tr>\n",
       "      <th>0</th>\n",
       "      <td>Yes</td>\n",
       "      <td>9</td>\n",
       "      <td>No</td>\n",
       "      <td>No</td>\n",
       "      <td>DSL</td>\n",
       "      <td>Yes</td>\n",
       "      <td>Yes</td>\n",
       "      <td>Month-to-month</td>\n",
       "      <td>Yes</td>\n",
       "      <td>72.90</td>\n",
       "      <td>Yes</td>\n",
       "    </tr>\n",
       "    <tr>\n",
       "      <th>1</th>\n",
       "      <td>No</td>\n",
       "      <td>14</td>\n",
       "      <td>No</td>\n",
       "      <td>Yes</td>\n",
       "      <td>Fiber optic</td>\n",
       "      <td>Yes</td>\n",
       "      <td>No</td>\n",
       "      <td>Month-to-month</td>\n",
       "      <td>Yes</td>\n",
       "      <td>82.65</td>\n",
       "      <td>No</td>\n",
       "    </tr>\n",
       "    <tr>\n",
       "      <th>2</th>\n",
       "      <td>No</td>\n",
       "      <td>64</td>\n",
       "      <td>Yes</td>\n",
       "      <td>No</td>\n",
       "      <td>DSL</td>\n",
       "      <td>Yes</td>\n",
       "      <td>Yes</td>\n",
       "      <td>Two year</td>\n",
       "      <td>No</td>\n",
       "      <td>47.85</td>\n",
       "      <td>Yes</td>\n",
       "    </tr>\n",
       "    <tr>\n",
       "      <th>3</th>\n",
       "      <td>No</td>\n",
       "      <td>72</td>\n",
       "      <td>Yes</td>\n",
       "      <td>Yes</td>\n",
       "      <td>DSL</td>\n",
       "      <td>Yes</td>\n",
       "      <td>Yes</td>\n",
       "      <td>Two year</td>\n",
       "      <td>No</td>\n",
       "      <td>69.65</td>\n",
       "      <td>No</td>\n",
       "    </tr>\n",
       "    <tr>\n",
       "      <th>4</th>\n",
       "      <td>No</td>\n",
       "      <td>3</td>\n",
       "      <td>No internet service</td>\n",
       "      <td>No internet service</td>\n",
       "      <td>No</td>\n",
       "      <td>No internet service</td>\n",
       "      <td>No internet service</td>\n",
       "      <td>Month-to-month</td>\n",
       "      <td>Yes</td>\n",
       "      <td>23.60</td>\n",
       "      <td>No</td>\n",
       "    </tr>\n",
       "  </tbody>\n",
       "</table>\n",
       "</div>"
      ],
      "text/plain": [
       "  Dependents  tenure       OnlineSecurity         OnlineBackup  \\\n",
       "0        Yes       9                   No                   No   \n",
       "1         No      14                   No                  Yes   \n",
       "2         No      64                  Yes                   No   \n",
       "3         No      72                  Yes                  Yes   \n",
       "4         No       3  No internet service  No internet service   \n",
       "\n",
       "  InternetService     DeviceProtection          TechSupport        Contract  \\\n",
       "0             DSL                  Yes                  Yes  Month-to-month   \n",
       "1     Fiber optic                  Yes                   No  Month-to-month   \n",
       "2             DSL                  Yes                  Yes        Two year   \n",
       "3             DSL                  Yes                  Yes        Two year   \n",
       "4              No  No internet service  No internet service  Month-to-month   \n",
       "\n",
       "  PaperlessBilling  MonthlyCharges Churn  \n",
       "0              Yes           72.90   Yes  \n",
       "1              Yes           82.65    No  \n",
       "2               No           47.85   Yes  \n",
       "3               No           69.65    No  \n",
       "4              Yes           23.60    No  "
      ]
     },
     "execution_count": 3,
     "metadata": {},
     "output_type": "execute_result"
    }
   ],
   "source": [
    "df.head()"
   ]
  },
  {
   "cell_type": "code",
   "execution_count": 74,
   "id": "0964db28-f85d-4bc1-9cdc-83074597e4f0",
   "metadata": {},
   "outputs": [
    {
     "name": "stdout",
     "output_type": "stream",
     "text": [
      "<class 'pandas.core.frame.DataFrame'>\n",
      "RangeIndex: 4930 entries, 0 to 4929\n",
      "Data columns (total 11 columns):\n",
      " #   Column            Non-Null Count  Dtype  \n",
      "---  ------            --------------  -----  \n",
      " 0   Dependents        4930 non-null   object \n",
      " 1   tenure            4930 non-null   int64  \n",
      " 2   OnlineSecurity    4930 non-null   object \n",
      " 3   OnlineBackup      4930 non-null   object \n",
      " 4   InternetService   4930 non-null   object \n",
      " 5   DeviceProtection  4930 non-null   object \n",
      " 6   TechSupport       4930 non-null   object \n",
      " 7   Contract          4930 non-null   object \n",
      " 8   PaperlessBilling  4930 non-null   object \n",
      " 9   MonthlyCharges    4930 non-null   float64\n",
      " 10  Churn             4930 non-null   object \n",
      "dtypes: float64(1), int64(1), object(9)\n",
      "memory usage: 423.8+ KB\n"
     ]
    }
   ],
   "source": [
    "df.info()"
   ]
  },
  {
   "cell_type": "markdown",
   "id": "168bcac6-81a8-46df-864a-aa486445baa1",
   "metadata": {},
   "source": [
    "# Informasi Data\n",
    "\n",
    "Terdapat 4930 baris dan 11 kolom yang memberikan informasi mengenai informasi pelanggan yang menggunakan jasa telekomunikasi ini."
   ]
  },
  {
   "cell_type": "markdown",
   "id": "1776d9a2-be24-4ad1-a287-addb40a20310",
   "metadata": {},
   "source": [
    "## Kolom Prediksi \n",
    "1. **Churn** : Berisi data pelanggan churn atau tidak (Yes/No)"
   ]
  },
  {
   "cell_type": "markdown",
   "id": "f4e24c6a-1d71-45d9-8481-7604b73d28da",
   "metadata": {},
   "source": [
    "## Kolom Numerikal \n",
    "2. **Tenure** : Berisi informasi jumlah durasi lamanya pelanggan sudah berlangganan pada perusahaan.\n",
    "3. **MonthlyCharges** : Berisi informasi jumlah tagihan pelanggan setiap bulan."
   ]
  },
  {
   "cell_type": "markdown",
   "id": "0242c1df-7833-4866-bf35-667a0300f571",
   "metadata": {},
   "source": [
    "## Kolom Kategorikal\n",
    "4. **Dependents** : Berisi informasi apakah pelanggan memiliki tanggungan atau tidak (Yes/No)\n",
    "\n",
    "5. **OnlineSecurity** : Berisi informasi pelanggan memiliki online security atau tidak (Yes/No/No Internet Service)\n",
    "\n",
    "6. **OnlineBakcup** :  Berisi informasi pelanggan memiliki online backup atau tidak (Yes/No/No Internet Service)\n",
    "\n",
    "7. **InternetService** :  Berisi informasi jenis internet provider pelanggan(DSL,Fiber optic, No)\n",
    "\n",
    "8. **DeviceProtection**: Berisi informasi pelanggan memiliki perlindungan device atau tidak (Yes/No/No Internet Service)\n",
    "\n",
    "9. **TechSupport** :  Berisi informasi pelanggan memiliki tech support atau tidak (Yes/No/No Internet Service)\n",
    "\n",
    "10. **Contract** :  Berisi informasi kontrak pelanggan (Month-to-month/One year/Two years)\n",
    "\n",
    "11. **PaperlessBilling** :  Berisi informasi pelanggan menggunakan tagihan online atau tidak (Yes,No)"
   ]
  },
  {
   "cell_type": "markdown",
   "id": "e994418e-fa9f-4235-9d0d-7c48332e46e0",
   "metadata": {},
   "source": [
    "# Data Wrangling"
   ]
  },
  {
   "cell_type": "code",
   "execution_count": 4,
   "id": "32b73bc6-19cc-43d6-9d2a-4dc96fadc33c",
   "metadata": {},
   "outputs": [],
   "source": [
    "df_churn=df.copy()"
   ]
  },
  {
   "cell_type": "code",
   "execution_count": 5,
   "id": "212c2bec-8797-4198-a422-8355afbb9099",
   "metadata": {},
   "outputs": [],
   "source": [
    "def unik (x):\n",
    "    Type=[]\n",
    "    Count=[]\n",
    "    Sample=[]\n",
    "    MissVal=[]\n",
    "    for i in x.columns:\n",
    "        Sample.append(x[i].unique()[:5])\n",
    "        Count.append(x[i].nunique())\n",
    "        Type.append(x[i].dtype)\n",
    "        MissVal.append(x[i].isna().sum())\n",
    "    unik=pd.DataFrame({\n",
    "        'Columns':df.columns,\n",
    "        'Dtype':Type,\n",
    "        'Nunique':Count,\n",
    "        'Missing Value':MissVal,\n",
    "        'Unique':Sample\n",
    "    })\n",
    "    return unik"
   ]
  },
  {
   "cell_type": "code",
   "execution_count": 6,
   "id": "427a9a44-7228-4ec3-bcbc-e7f7323b0ecd",
   "metadata": {},
   "outputs": [
    {
     "data": {
      "text/html": [
       "<div>\n",
       "<style scoped>\n",
       "    .dataframe tbody tr th:only-of-type {\n",
       "        vertical-align: middle;\n",
       "    }\n",
       "\n",
       "    .dataframe tbody tr th {\n",
       "        vertical-align: top;\n",
       "    }\n",
       "\n",
       "    .dataframe thead th {\n",
       "        text-align: right;\n",
       "    }\n",
       "</style>\n",
       "<table border=\"1\" class=\"dataframe\">\n",
       "  <thead>\n",
       "    <tr style=\"text-align: right;\">\n",
       "      <th></th>\n",
       "      <th>Columns</th>\n",
       "      <th>Dtype</th>\n",
       "      <th>Nunique</th>\n",
       "      <th>Missing Value</th>\n",
       "      <th>Unique</th>\n",
       "    </tr>\n",
       "  </thead>\n",
       "  <tbody>\n",
       "    <tr>\n",
       "      <th>0</th>\n",
       "      <td>Dependents</td>\n",
       "      <td>object</td>\n",
       "      <td>2</td>\n",
       "      <td>0</td>\n",
       "      <td>[Yes, No]</td>\n",
       "    </tr>\n",
       "    <tr>\n",
       "      <th>1</th>\n",
       "      <td>tenure</td>\n",
       "      <td>int64</td>\n",
       "      <td>73</td>\n",
       "      <td>0</td>\n",
       "      <td>[9, 14, 64, 72, 3]</td>\n",
       "    </tr>\n",
       "    <tr>\n",
       "      <th>2</th>\n",
       "      <td>OnlineSecurity</td>\n",
       "      <td>object</td>\n",
       "      <td>3</td>\n",
       "      <td>0</td>\n",
       "      <td>[No, Yes, No internet service]</td>\n",
       "    </tr>\n",
       "    <tr>\n",
       "      <th>3</th>\n",
       "      <td>OnlineBackup</td>\n",
       "      <td>object</td>\n",
       "      <td>3</td>\n",
       "      <td>0</td>\n",
       "      <td>[No, Yes, No internet service]</td>\n",
       "    </tr>\n",
       "    <tr>\n",
       "      <th>4</th>\n",
       "      <td>InternetService</td>\n",
       "      <td>object</td>\n",
       "      <td>3</td>\n",
       "      <td>0</td>\n",
       "      <td>[DSL, Fiber optic, No]</td>\n",
       "    </tr>\n",
       "    <tr>\n",
       "      <th>5</th>\n",
       "      <td>DeviceProtection</td>\n",
       "      <td>object</td>\n",
       "      <td>3</td>\n",
       "      <td>0</td>\n",
       "      <td>[Yes, No internet service, No]</td>\n",
       "    </tr>\n",
       "    <tr>\n",
       "      <th>6</th>\n",
       "      <td>TechSupport</td>\n",
       "      <td>object</td>\n",
       "      <td>3</td>\n",
       "      <td>0</td>\n",
       "      <td>[Yes, No, No internet service]</td>\n",
       "    </tr>\n",
       "    <tr>\n",
       "      <th>7</th>\n",
       "      <td>Contract</td>\n",
       "      <td>object</td>\n",
       "      <td>3</td>\n",
       "      <td>0</td>\n",
       "      <td>[Month-to-month, Two year, One year]</td>\n",
       "    </tr>\n",
       "    <tr>\n",
       "      <th>8</th>\n",
       "      <td>PaperlessBilling</td>\n",
       "      <td>object</td>\n",
       "      <td>2</td>\n",
       "      <td>0</td>\n",
       "      <td>[Yes, No]</td>\n",
       "    </tr>\n",
       "    <tr>\n",
       "      <th>9</th>\n",
       "      <td>MonthlyCharges</td>\n",
       "      <td>float64</td>\n",
       "      <td>1422</td>\n",
       "      <td>0</td>\n",
       "      <td>[72.9, 82.65, 47.85, 69.65, 23.6]</td>\n",
       "    </tr>\n",
       "    <tr>\n",
       "      <th>10</th>\n",
       "      <td>Churn</td>\n",
       "      <td>object</td>\n",
       "      <td>2</td>\n",
       "      <td>0</td>\n",
       "      <td>[Yes, No]</td>\n",
       "    </tr>\n",
       "  </tbody>\n",
       "</table>\n",
       "</div>"
      ],
      "text/plain": [
       "             Columns    Dtype  Nunique  Missing Value  \\\n",
       "0         Dependents   object        2              0   \n",
       "1             tenure    int64       73              0   \n",
       "2     OnlineSecurity   object        3              0   \n",
       "3       OnlineBackup   object        3              0   \n",
       "4    InternetService   object        3              0   \n",
       "5   DeviceProtection   object        3              0   \n",
       "6        TechSupport   object        3              0   \n",
       "7           Contract   object        3              0   \n",
       "8   PaperlessBilling   object        2              0   \n",
       "9     MonthlyCharges  float64     1422              0   \n",
       "10             Churn   object        2              0   \n",
       "\n",
       "                                  Unique  \n",
       "0                              [Yes, No]  \n",
       "1                     [9, 14, 64, 72, 3]  \n",
       "2         [No, Yes, No internet service]  \n",
       "3         [No, Yes, No internet service]  \n",
       "4                 [DSL, Fiber optic, No]  \n",
       "5         [Yes, No internet service, No]  \n",
       "6         [Yes, No, No internet service]  \n",
       "7   [Month-to-month, Two year, One year]  \n",
       "8                              [Yes, No]  \n",
       "9      [72.9, 82.65, 47.85, 69.65, 23.6]  \n",
       "10                             [Yes, No]  "
      ]
     },
     "execution_count": 6,
     "metadata": {},
     "output_type": "execute_result"
    }
   ],
   "source": [
    "unik(df_churn)"
   ]
  },
  {
   "cell_type": "markdown",
   "id": "4df85272-72de-41e9-829f-a89aa85400c1",
   "metadata": {},
   "source": [
    "Pada tabel dapat kita lihat bahwa data tidak memiliki *missing value*. pada tiap kolom juga memiliki nilai lebih dari satu sehingga kita dapat melakukan klasifikasi.\n",
    "\n",
    "Kita lihat juga bahwa pada feature Onlinesecurity, OnlineBackup, DeviceProtection dan TechSupport, maka akan kita dapat nilai unik 'Yes', 'No' dan 'No internet service'. secara pengertiannya data dengan nilai 'No internet service' pada data tersebut memiliki pengertian 'No' karena pelanggan tersebut memang tidak menggunakan InternetService, maka pelanggan tersebut juga tidak menggunakan pelayanan yang sudah disebutkan sebelumnya. dapat dilihat pada tabel dibawah ini bahwa tidak ada nilai 'Yes'."
   ]
  },
  {
   "cell_type": "code",
   "execution_count": 78,
   "id": "6be678f4-747f-41a1-9e70-9ce85665574b",
   "metadata": {},
   "outputs": [
    {
     "data": {
      "text/html": [
       "<div>\n",
       "<style scoped>\n",
       "    .dataframe tbody tr th:only-of-type {\n",
       "        vertical-align: middle;\n",
       "    }\n",
       "\n",
       "    .dataframe tbody tr th {\n",
       "        vertical-align: top;\n",
       "    }\n",
       "\n",
       "    .dataframe thead th {\n",
       "        text-align: right;\n",
       "    }\n",
       "</style>\n",
       "<table border=\"1\" class=\"dataframe\">\n",
       "  <thead>\n",
       "    <tr style=\"text-align: right;\">\n",
       "      <th></th>\n",
       "      <th>Column Name</th>\n",
       "      <th>Number of Unique</th>\n",
       "      <th>Unique Values</th>\n",
       "    </tr>\n",
       "  </thead>\n",
       "  <tbody>\n",
       "    <tr>\n",
       "      <th>0</th>\n",
       "      <td>OnlineSecurity</td>\n",
       "      <td>1</td>\n",
       "      <td>[No internet service]</td>\n",
       "    </tr>\n",
       "    <tr>\n",
       "      <th>1</th>\n",
       "      <td>OnlineBackup</td>\n",
       "      <td>1</td>\n",
       "      <td>[No internet service]</td>\n",
       "    </tr>\n",
       "    <tr>\n",
       "      <th>2</th>\n",
       "      <td>InternetService</td>\n",
       "      <td>1</td>\n",
       "      <td>[No]</td>\n",
       "    </tr>\n",
       "    <tr>\n",
       "      <th>3</th>\n",
       "      <td>DeviceProtection</td>\n",
       "      <td>1</td>\n",
       "      <td>[No internet service]</td>\n",
       "    </tr>\n",
       "    <tr>\n",
       "      <th>4</th>\n",
       "      <td>TechSupport</td>\n",
       "      <td>1</td>\n",
       "      <td>[No internet service]</td>\n",
       "    </tr>\n",
       "  </tbody>\n",
       "</table>\n",
       "</div>"
      ],
      "text/plain": [
       "        Column Name  Number of Unique          Unique Values\n",
       "0    OnlineSecurity                 1  [No internet service]\n",
       "1      OnlineBackup                 1  [No internet service]\n",
       "2   InternetService                 1                   [No]\n",
       "3  DeviceProtection                 1  [No internet service]\n",
       "4       TechSupport                 1  [No internet service]"
      ]
     },
     "execution_count": 78,
     "metadata": {},
     "output_type": "execute_result"
    }
   ],
   "source": [
    "df_no_internet = df[df['InternetService']=='No']\n",
    "\n",
    "listItem = []\n",
    "for col in df_no_internet.columns[2:7] :\n",
    "    listItem.append( [col, df_no_internet[col].nunique(), df_no_internet.sort_values(col)[col].unique()])\n",
    "\n",
    "tabel1Desc = pd.DataFrame(columns=['Column Name', 'Number of Unique', 'Unique Values'],\n",
    "                     data=listItem)\n",
    "tabel1Desc"
   ]
  },
  {
   "cell_type": "code",
   "execution_count": 7,
   "id": "c9bca59a-b7e7-4869-9295-5dc42e73b8ac",
   "metadata": {},
   "outputs": [
    {
     "data": {
      "text/html": [
       "<div>\n",
       "<style scoped>\n",
       "    .dataframe tbody tr th:only-of-type {\n",
       "        vertical-align: middle;\n",
       "    }\n",
       "\n",
       "    .dataframe tbody tr th {\n",
       "        vertical-align: top;\n",
       "    }\n",
       "\n",
       "    .dataframe thead th {\n",
       "        text-align: right;\n",
       "    }\n",
       "</style>\n",
       "<table border=\"1\" class=\"dataframe\">\n",
       "  <thead>\n",
       "    <tr style=\"text-align: right;\">\n",
       "      <th></th>\n",
       "      <th>Columns</th>\n",
       "      <th>Dtype</th>\n",
       "      <th>Nunique</th>\n",
       "      <th>Missing Value</th>\n",
       "      <th>Unique</th>\n",
       "    </tr>\n",
       "  </thead>\n",
       "  <tbody>\n",
       "    <tr>\n",
       "      <th>0</th>\n",
       "      <td>Dependents</td>\n",
       "      <td>object</td>\n",
       "      <td>2</td>\n",
       "      <td>0</td>\n",
       "      <td>[Yes, No]</td>\n",
       "    </tr>\n",
       "    <tr>\n",
       "      <th>1</th>\n",
       "      <td>tenure</td>\n",
       "      <td>int64</td>\n",
       "      <td>73</td>\n",
       "      <td>0</td>\n",
       "      <td>[9, 14, 64, 72, 3]</td>\n",
       "    </tr>\n",
       "    <tr>\n",
       "      <th>2</th>\n",
       "      <td>OnlineSecurity</td>\n",
       "      <td>object</td>\n",
       "      <td>2</td>\n",
       "      <td>0</td>\n",
       "      <td>[No, Yes]</td>\n",
       "    </tr>\n",
       "    <tr>\n",
       "      <th>3</th>\n",
       "      <td>OnlineBackup</td>\n",
       "      <td>object</td>\n",
       "      <td>2</td>\n",
       "      <td>0</td>\n",
       "      <td>[No, Yes]</td>\n",
       "    </tr>\n",
       "    <tr>\n",
       "      <th>4</th>\n",
       "      <td>InternetService</td>\n",
       "      <td>object</td>\n",
       "      <td>3</td>\n",
       "      <td>0</td>\n",
       "      <td>[DSL, Fiber optic, No]</td>\n",
       "    </tr>\n",
       "    <tr>\n",
       "      <th>5</th>\n",
       "      <td>DeviceProtection</td>\n",
       "      <td>object</td>\n",
       "      <td>2</td>\n",
       "      <td>0</td>\n",
       "      <td>[Yes, No]</td>\n",
       "    </tr>\n",
       "    <tr>\n",
       "      <th>6</th>\n",
       "      <td>TechSupport</td>\n",
       "      <td>object</td>\n",
       "      <td>2</td>\n",
       "      <td>0</td>\n",
       "      <td>[Yes, No]</td>\n",
       "    </tr>\n",
       "    <tr>\n",
       "      <th>7</th>\n",
       "      <td>Contract</td>\n",
       "      <td>object</td>\n",
       "      <td>3</td>\n",
       "      <td>0</td>\n",
       "      <td>[Month-to-month, Two year, One year]</td>\n",
       "    </tr>\n",
       "    <tr>\n",
       "      <th>8</th>\n",
       "      <td>PaperlessBilling</td>\n",
       "      <td>object</td>\n",
       "      <td>2</td>\n",
       "      <td>0</td>\n",
       "      <td>[Yes, No]</td>\n",
       "    </tr>\n",
       "    <tr>\n",
       "      <th>9</th>\n",
       "      <td>MonthlyCharges</td>\n",
       "      <td>float64</td>\n",
       "      <td>1422</td>\n",
       "      <td>0</td>\n",
       "      <td>[72.9, 82.65, 47.85, 69.65, 23.6]</td>\n",
       "    </tr>\n",
       "    <tr>\n",
       "      <th>10</th>\n",
       "      <td>Churn</td>\n",
       "      <td>object</td>\n",
       "      <td>2</td>\n",
       "      <td>0</td>\n",
       "      <td>[Yes, No]</td>\n",
       "    </tr>\n",
       "  </tbody>\n",
       "</table>\n",
       "</div>"
      ],
      "text/plain": [
       "             Columns    Dtype  Nunique  Missing Value  \\\n",
       "0         Dependents   object        2              0   \n",
       "1             tenure    int64       73              0   \n",
       "2     OnlineSecurity   object        2              0   \n",
       "3       OnlineBackup   object        2              0   \n",
       "4    InternetService   object        3              0   \n",
       "5   DeviceProtection   object        2              0   \n",
       "6        TechSupport   object        2              0   \n",
       "7           Contract   object        3              0   \n",
       "8   PaperlessBilling   object        2              0   \n",
       "9     MonthlyCharges  float64     1422              0   \n",
       "10             Churn   object        2              0   \n",
       "\n",
       "                                  Unique  \n",
       "0                              [Yes, No]  \n",
       "1                     [9, 14, 64, 72, 3]  \n",
       "2                              [No, Yes]  \n",
       "3                              [No, Yes]  \n",
       "4                 [DSL, Fiber optic, No]  \n",
       "5                              [Yes, No]  \n",
       "6                              [Yes, No]  \n",
       "7   [Month-to-month, Two year, One year]  \n",
       "8                              [Yes, No]  \n",
       "9      [72.9, 82.65, 47.85, 69.65, 23.6]  \n",
       "10                             [Yes, No]  "
      ]
     },
     "execution_count": 7,
     "metadata": {},
     "output_type": "execute_result"
    }
   ],
   "source": [
    "df_churn = df_churn.replace('No internet service','No')\n",
    "df_churn\n",
    "unik(df_churn)"
   ]
  },
  {
   "cell_type": "markdown",
   "id": "16336c3b-762d-409e-8d6f-0feea8dbee28",
   "metadata": {},
   "source": [
    "kita lihat juga bahwa pada beberapa kolom terdapat kolom yang memiliki makna yang sama yaitu 'No' dan 'No internet service'. kemudian data ini diubah menjadi 'No'."
   ]
  },
  {
   "cell_type": "markdown",
   "id": "875a996a-5fe9-4a90-9975-0350176504d6",
   "metadata": {},
   "source": [
    "### Missing value checking"
   ]
  },
  {
   "cell_type": "code",
   "execution_count": 8,
   "id": "812d83d4-0317-4ecb-a846-11c49fe88b50",
   "metadata": {},
   "outputs": [
    {
     "data": {
      "text/plain": [
       "Dependents          0\n",
       "tenure              0\n",
       "OnlineSecurity      0\n",
       "OnlineBackup        0\n",
       "InternetService     0\n",
       "DeviceProtection    0\n",
       "TechSupport         0\n",
       "Contract            0\n",
       "PaperlessBilling    0\n",
       "MonthlyCharges      0\n",
       "Churn               0\n",
       "dtype: int64"
      ]
     },
     "execution_count": 8,
     "metadata": {},
     "output_type": "execute_result"
    }
   ],
   "source": [
    "df.isna().sum()"
   ]
  },
  {
   "cell_type": "code",
   "execution_count": 9,
   "id": "d942e8d9-1ccd-467b-b703-f7c19e77d260",
   "metadata": {},
   "outputs": [
    {
     "data": {
      "text/plain": [
       "Dependents          0\n",
       "tenure              0\n",
       "OnlineSecurity      0\n",
       "OnlineBackup        0\n",
       "InternetService     0\n",
       "DeviceProtection    0\n",
       "TechSupport         0\n",
       "Contract            0\n",
       "PaperlessBilling    0\n",
       "MonthlyCharges      0\n",
       "Churn               0\n",
       "dtype: int64"
      ]
     },
     "execution_count": 9,
     "metadata": {},
     "output_type": "execute_result"
    }
   ],
   "source": [
    "df.isnull().sum()"
   ]
  },
  {
   "cell_type": "code",
   "execution_count": 10,
   "id": "2444ba43-ebee-44c3-876c-6ff2a98cc7e0",
   "metadata": {},
   "outputs": [
    {
     "data": {
      "text/plain": [
       "Dependents          0\n",
       "tenure              0\n",
       "OnlineSecurity      0\n",
       "OnlineBackup        0\n",
       "InternetService     0\n",
       "DeviceProtection    0\n",
       "TechSupport         0\n",
       "Contract            0\n",
       "PaperlessBilling    0\n",
       "MonthlyCharges      0\n",
       "Churn               0\n",
       "dtype: int64"
      ]
     },
     "execution_count": 10,
     "metadata": {},
     "output_type": "execute_result"
    }
   ],
   "source": [
    "df.isna().sum()"
   ]
  },
  {
   "cell_type": "markdown",
   "id": "677e75a2-63a2-4122-b7bb-d6844c1aba0a",
   "metadata": {},
   "source": [
    "Pada data ini tidak memiliki missing value"
   ]
  },
  {
   "cell_type": "markdown",
   "id": "cb6ccd61-6c77-4dbf-baf6-02a9ae8623a1",
   "metadata": {},
   "source": [
    "# Outlier Checking"
   ]
  },
  {
   "cell_type": "code",
   "execution_count": 11,
   "id": "cb92af26-66ad-4c78-b944-357352d7f84b",
   "metadata": {},
   "outputs": [
    {
     "data": {
      "text/plain": [
       "<AxesSubplot:xlabel='tenure'>"
      ]
     },
     "execution_count": 11,
     "metadata": {},
     "output_type": "execute_result"
    },
    {
     "data": {
      "image/png": "[encoded data removed]",
      "text/plain": [
       "<Figure size 432x288 with 1 Axes>"
      ]
     },
     "metadata": {
      "needs_background": "light"
     },
     "output_type": "display_data"
    }
   ],
   "source": [
    "sns.boxplot(x=df_churn['tenure'])"
   ]
  },
  {
   "cell_type": "code",
   "execution_count": 12,
   "id": "1bd5c2c3-d3ed-4e85-97a0-b7c58233b7fb",
   "metadata": {},
   "outputs": [
    {
     "data": {
      "text/plain": [
       "<AxesSubplot:xlabel='MonthlyCharges'>"
      ]
     },
     "execution_count": 12,
     "metadata": {},
     "output_type": "execute_result"
    },
    {
     "data": {
      "image/png": "[encoded data removed]",
      "text/plain": [
       "<Figure size 432x288 with 1 Axes>"
      ]
     },
     "metadata": {
      "needs_background": "light"
     },
     "output_type": "display_data"
    }
   ],
   "source": [
    "sns.boxplot(x=df_churn['MonthlyCharges'])\n",
    "\n"
   ]
  },
  {
   "cell_type": "markdown",
   "id": "bb53624a-c20a-4e2a-bfec-702b5fd88735",
   "metadata": {},
   "source": [
    "Dapat dilihat pada box plot tenure dan MonthlyCharges bahwa data ini tidak memiliki *Outliers*"
   ]
  },
  {
   "cell_type": "markdown",
   "id": "ff7442ea-23d4-4911-8098-c6ed9dd538fe",
   "metadata": {},
   "source": [
    "### Exploratory Data Analysis"
   ]
  },
  {
   "cell_type": "code",
   "execution_count": 76,
   "id": "3986f391-dc79-47fa-b9ac-5d336feac9a1",
   "metadata": {},
   "outputs": [
    {
     "data": {
      "image/png": "[encoded data removed]",
      "text/plain": [
       "<Figure size 504x504 with 1 Axes>"
      ]
     },
     "metadata": {},
     "output_type": "display_data"
    }
   ],
   "source": [
    "plt.figure(figsize=(7,7))\n",
    "plt.title(\"Jumlah Targets(Churn) in the dataset\", size=18, weight='bold')\n",
    "plt.pie(df['Churn'].value_counts(), explode=(0,0.1), labels=['No', 'Yes'], colors=[\"orange\",\"green\"], autopct='%1.1f%%', shadow=True, \n",
    "        startangle=90, textprops={\"fontsize\":20})\n",
    "\n",
    "plt.show()"
   ]
  },
  {
   "cell_type": "code",
   "execution_count": 14,
   "id": "16a9085c-022b-40f7-aa1f-875f80d50d56",
   "metadata": {},
   "outputs": [
    {
     "data": {
      "text/plain": [
       "No     3614\n",
       "Yes    1316\n",
       "Name: Churn, dtype: int64"
      ]
     },
     "execution_count": 14,
     "metadata": {},
     "output_type": "execute_result"
    }
   ],
   "source": [
    "df['Churn'].value_counts()"
   ]
  },
  {
   "cell_type": "code",
   "execution_count": 15,
   "id": "3a38086d-4df2-4a91-b2a1-26553774d975",
   "metadata": {},
   "outputs": [
    {
     "data": {
      "text/plain": [
       "No     0.733063\n",
       "Yes    0.266937\n",
       "Name: Churn, dtype: float64"
      ]
     },
     "execution_count": 15,
     "metadata": {},
     "output_type": "execute_result"
    }
   ],
   "source": [
    "df_churn['Churn'].value_counts()/len(df)"
   ]
  },
  {
   "cell_type": "markdown",
   "id": "5ce30aac-9431-4fa3-9a62-429b9b59c8aa",
   "metadata": {},
   "source": [
    "Dapat dilihat pada plot diatas bahwa orang yang churn dan tidak yaitu sebesar :\n",
    "    * Churn : No --> 73.3%\n",
    "    * Churn : Yes --> 26.7%\n",
    "Data yang dimiliki tidak seimbang **Imbalance** sehingga nanti perlu dilakukan *sampling*"
   ]
  },
  {
   "cell_type": "code",
   "execution_count": 16,
   "id": "0fb42bc8-5745-4064-9ba4-393ad8b1b357",
   "metadata": {},
   "outputs": [
    {
     "data": {
      "text/plain": [
       "['Dependents',\n",
       " 'OnlineSecurity',\n",
       " 'OnlineBackup',\n",
       " 'InternetService',\n",
       " 'DeviceProtection',\n",
       " 'TechSupport',\n",
       " 'Contract',\n",
       " 'PaperlessBilling',\n",
       " 'Churn']"
      ]
     },
     "execution_count": 16,
     "metadata": {},
     "output_type": "execute_result"
    }
   ],
   "source": [
    "cat_features = [feature for feature in df.columns if df_churn[feature].dtypes == 'O']\n",
    "cat_features"
   ]
  },
  {
   "cell_type": "markdown",
   "id": "12439963-8c99-431f-890a-efa7ec3d248e",
   "metadata": {},
   "source": [
    "## Categorical Features"
   ]
  },
  {
   "cell_type": "code",
   "execution_count": 17,
   "id": "810b3ef1-b7da-42e9-9e85-b36ccca81947",
   "metadata": {},
   "outputs": [],
   "source": [
    "listItem = []\n",
    "\n",
    "for col in df.columns :\n",
    "    listItem.append([col,\n",
    "                     df[col].dtype,\n",
    "                     len(df),\n",
    "                     df[col].isna().sum(),\n",
    "                     round((df[col].isna().sum()/len(df[col])) * 100,2),\n",
    "                     df[col].nunique(), \n",
    "                     df[col].unique()])"
   ]
  },
  {
   "cell_type": "code",
   "execution_count": 18,
   "id": "fde42be0-2798-433a-be56-5270f95263a9",
   "metadata": {},
   "outputs": [
    {
     "data": {
      "image/png": "[encoded data removed]",
      "text/plain": [
       "<Figure size 1080x720 with 8 Axes>"
      ]
     },
     "metadata": {},
     "output_type": "display_data"
    }
   ],
   "source": [
    "plt.figure(figsize=(15, 10), facecolor='white')\n",
    "plotnumber = 1\n",
    "\n",
    "for feature in cat_features[:-1]:\n",
    "\n",
    "        column1 = feature\n",
    "\n",
    "        # membuat table berdasarkan 2 kolom kategorikal\n",
    "        groupby_table = df_churn.groupby([column1,'Churn']).size().unstack()\n",
    "\n",
    "        # fungsi untuk pelabelan dimana jika nilainya 0 tidak akan ditampilkan\n",
    "        def show() :\n",
    "            if height > 0 :\n",
    "                return '{:.0f}%'.format(height)\n",
    "            else :\n",
    "                return '' \n",
    "        \n",
    "        # subplot (letak grafik)\n",
    "        ax = plt.subplot(2, 4, plotnumber)\n",
    "        \n",
    "        # Harga rumah berdasarkan feature \n",
    "        (groupby_table.T*100.0 / groupby_table.T.sum()).T.plot(kind='bar',\n",
    "                                                                width = 0.5,\n",
    "                                                                stacked = True,\n",
    "                                                                rot = 0, \n",
    "                                                                ax = ax,\n",
    "                                                                color = ['navy', 'red'])\n",
    "\n",
    "        ax.legend(loc = 'lower right', prop={'size':9},title = 'Churn')\n",
    "        ax.set_ylabel('% Customers')\n",
    "        ax.set_title(f'Churn by {column1}',size = 12)\n",
    "\n",
    "        # menambahkan label data pada stacked bar chart\n",
    "        for p in ax.patches:\n",
    "            width, height = p.get_width(), p.get_height()\n",
    "            x, y = p.get_xy() \n",
    "            ax.annotate(show(), (p.get_x()+0.15*width, p.get_y()+.4*height),\n",
    "                        color = 'white',\n",
    "                        weight = 'bold',\n",
    "                        size = 11)\n",
    "                \n",
    "        plt.tight_layout();\n",
    "        \n",
    "        plotnumber += 1\n",
    "        "
   ]
  },
  {
   "cell_type": "markdown",
   "id": "8f636004-2d48-4d2b-871e-7034a51336b5",
   "metadata": {},
   "source": [
    "Berdasarkan Barplot diatas dapat disimpulkan bahwa:\n",
    "1. Pelanggan yang tidak memiliki tanggungan (**Dependent**) cenderung melakukan **Churn** dibandingkan pelanggan yang memiliki tanggungan.\n",
    "2. Pelanggan yang tidak menggunakan **OnlineSecurity** cenderung Churn dibandingkan dengan yang menggunakan.\n",
    "3. Plenaggan yang tidak menggunakan **OnlineBackup** cenderung Churn dibandingkan dengan yang menggunakan.\n",
    "4. Pelanggan yang menggunakan **InternetService** 'Fiber Optic' cenderung melakukan churn dibandingkan dengan pelanggan yang menggunakan internet service 'DSL' dan diikuti dengan 'No'\n",
    "5. Pelanggan yang tidak menggunakan **DeviceProtection** cendurung Churn dibandingkan yang menggunakan.\n",
    "6. Pelanggan yang tidak menggunakan **Tech Support** cenderung Churn dibandingkan yang menggunakan.\n",
    "7. Pelanggan yang **Contract** nya Perbulan cenderung melakukan Churn, berurutan diikuti oleh pelanggan yang kontraknya setahun dan dua tahun.\n",
    "8. Pelanggan yang menggunakan **PaperlessBilling** cenderung Churn dibandingkan dengan pelanggan yang tidak menggunakan.\n"
   ]
  },
  {
   "cell_type": "markdown",
   "id": "6ae6552c-5022-4514-afff-c2748b2af854",
   "metadata": {},
   "source": [
    "### Numerikal features"
   ]
  },
  {
   "cell_type": "code",
   "execution_count": 19,
   "id": "74487c93-04fe-4a5c-b7d6-1ca26f62d7b7",
   "metadata": {},
   "outputs": [
    {
     "data": {
      "image/png": "[encoded data removed]",
      "text/plain": [
       "<Figure size 936x720 with 4 Axes>"
      ]
     },
     "metadata": {
      "needs_background": "light"
     },
     "output_type": "display_data"
    }
   ],
   "source": [
    "plt.figure(figsize=(13, 10))\n",
    "def plotting(target, feature, hist, kde, subplot):\n",
    "    plt.subplot(subplot)\n",
    "    plt.title(\"Plot for {}\".format(feature))\n",
    "    sns.distplot(df[df[target] == 'No'][feature], hist=hist, kde=kde, \n",
    "                 color = 'orange',  \n",
    "                 label= target + ': No',\n",
    "                 kde_kws={'linewidth': 4})\n",
    "    sns.distplot(df[df[target] == 'Yes'][feature], hist=hist, kde=kde, \n",
    "                 color = 'green',  \n",
    "                 label= target + ': Yes',\n",
    "                 kde_kws={'linewidth': 4})\n",
    "    plt.legend()\n",
    "    plt.subplot(subplot+1)\n",
    "    sns.boxplot(data = df,y = feature, x = target, hue = target)\n",
    "    plt.legend(loc='center')\n",
    "\n",
    "plotting(target = 'Churn', feature = 'tenure', hist = False, kde = True, subplot = 221)\n",
    "\n",
    "plotting(target = 'Churn', feature = 'MonthlyCharges', hist = False, kde = True, subplot = 223)\n",
    "\n",
    "plt.show()"
   ]
  },
  {
   "cell_type": "markdown",
   "id": "8c19d75e-3af3-46fe-ad8b-5daa3de47c1e",
   "metadata": {},
   "source": [
    "Pada Plot diatas dapat disimpulkan bahwa :\n",
    "1. Pelanggan yang memiliki **tenure** rendah cenderung melakukan Churn\n",
    "2. Pelanggan yang biaya **MonthlyCharges** (biaya tagihan per bulan) tinggi cenderung untuk melakukan Churn."
   ]
  },
  {
   "cell_type": "markdown",
   "id": "ef782118-1e69-4a5f-a433-7f85a45a3cc7",
   "metadata": {},
   "source": [
    "# Data Preprocessing\n",
    "feature:<br>\n",
    "X='Dependents,OnlineSecurity,'OnlineBackup', 'InternetService', 'DeviceProtection', 'TechSupport', 'Contract', 'PaperlessBilling',Tenure,Monthly charge\n",
    "<br>\n",
    "Y= Churn\n"
   ]
  },
  {
   "cell_type": "code",
   "execution_count": 20,
   "id": "744662a0-94bf-47f9-9e16-2d80ad9724cf",
   "metadata": {},
   "outputs": [
    {
     "data": {
      "text/html": [
       "<div>\n",
       "<style scoped>\n",
       "    .dataframe tbody tr th:only-of-type {\n",
       "        vertical-align: middle;\n",
       "    }\n",
       "\n",
       "    .dataframe tbody tr th {\n",
       "        vertical-align: top;\n",
       "    }\n",
       "\n",
       "    .dataframe thead th {\n",
       "        text-align: right;\n",
       "    }\n",
       "</style>\n",
       "<table border=\"1\" class=\"dataframe\">\n",
       "  <thead>\n",
       "    <tr style=\"text-align: right;\">\n",
       "      <th></th>\n",
       "      <th>Dependents</th>\n",
       "      <th>tenure</th>\n",
       "      <th>OnlineSecurity</th>\n",
       "      <th>OnlineBackup</th>\n",
       "      <th>InternetService</th>\n",
       "      <th>DeviceProtection</th>\n",
       "      <th>TechSupport</th>\n",
       "      <th>Contract</th>\n",
       "      <th>PaperlessBilling</th>\n",
       "      <th>MonthlyCharges</th>\n",
       "      <th>Churn</th>\n",
       "    </tr>\n",
       "  </thead>\n",
       "  <tbody>\n",
       "    <tr>\n",
       "      <th>0</th>\n",
       "      <td>Yes</td>\n",
       "      <td>9</td>\n",
       "      <td>No</td>\n",
       "      <td>No</td>\n",
       "      <td>DSL</td>\n",
       "      <td>Yes</td>\n",
       "      <td>Yes</td>\n",
       "      <td>Month-to-month</td>\n",
       "      <td>Yes</td>\n",
       "      <td>72.90</td>\n",
       "      <td>1</td>\n",
       "    </tr>\n",
       "    <tr>\n",
       "      <th>1</th>\n",
       "      <td>No</td>\n",
       "      <td>14</td>\n",
       "      <td>No</td>\n",
       "      <td>Yes</td>\n",
       "      <td>Fiber optic</td>\n",
       "      <td>Yes</td>\n",
       "      <td>No</td>\n",
       "      <td>Month-to-month</td>\n",
       "      <td>Yes</td>\n",
       "      <td>82.65</td>\n",
       "      <td>0</td>\n",
       "    </tr>\n",
       "    <tr>\n",
       "      <th>2</th>\n",
       "      <td>No</td>\n",
       "      <td>64</td>\n",
       "      <td>Yes</td>\n",
       "      <td>No</td>\n",
       "      <td>DSL</td>\n",
       "      <td>Yes</td>\n",
       "      <td>Yes</td>\n",
       "      <td>Two year</td>\n",
       "      <td>No</td>\n",
       "      <td>47.85</td>\n",
       "      <td>1</td>\n",
       "    </tr>\n",
       "    <tr>\n",
       "      <th>3</th>\n",
       "      <td>No</td>\n",
       "      <td>72</td>\n",
       "      <td>Yes</td>\n",
       "      <td>Yes</td>\n",
       "      <td>DSL</td>\n",
       "      <td>Yes</td>\n",
       "      <td>Yes</td>\n",
       "      <td>Two year</td>\n",
       "      <td>No</td>\n",
       "      <td>69.65</td>\n",
       "      <td>0</td>\n",
       "    </tr>\n",
       "    <tr>\n",
       "      <th>4</th>\n",
       "      <td>No</td>\n",
       "      <td>3</td>\n",
       "      <td>No</td>\n",
       "      <td>No</td>\n",
       "      <td>No</td>\n",
       "      <td>No</td>\n",
       "      <td>No</td>\n",
       "      <td>Month-to-month</td>\n",
       "      <td>Yes</td>\n",
       "      <td>23.60</td>\n",
       "      <td>0</td>\n",
       "    </tr>\n",
       "  </tbody>\n",
       "</table>\n",
       "</div>"
      ],
      "text/plain": [
       "  Dependents  tenure OnlineSecurity OnlineBackup InternetService  \\\n",
       "0        Yes       9             No           No             DSL   \n",
       "1         No      14             No          Yes     Fiber optic   \n",
       "2         No      64            Yes           No             DSL   \n",
       "3         No      72            Yes          Yes             DSL   \n",
       "4         No       3             No           No              No   \n",
       "\n",
       "  DeviceProtection TechSupport        Contract PaperlessBilling  \\\n",
       "0              Yes         Yes  Month-to-month              Yes   \n",
       "1              Yes          No  Month-to-month              Yes   \n",
       "2              Yes         Yes        Two year               No   \n",
       "3              Yes         Yes        Two year               No   \n",
       "4               No          No  Month-to-month              Yes   \n",
       "\n",
       "   MonthlyCharges  Churn  \n",
       "0           72.90      1  \n",
       "1           82.65      0  \n",
       "2           47.85      1  \n",
       "3           69.65      0  \n",
       "4           23.60      0  "
      ]
     },
     "execution_count": 20,
     "metadata": {},
     "output_type": "execute_result"
    }
   ],
   "source": [
    "df_churn['Churn'] = df_churn['Churn'].map({'Yes' : 1, 'No' : 0})\n",
    "df_churn.head()"
   ]
  },
  {
   "cell_type": "markdown",
   "id": "f75775bd-35ed-4c9e-985f-89aebbef97f8",
   "metadata": {},
   "source": [
    "Dilakukan perubahan nilai pada kolom  *feature* **Churn** dari 'Yes' menjadi nilai 1 dan untuk nilai 'No' menjadi 0 seperti terlihat pada tabel diatas."
   ]
  },
  {
   "cell_type": "code",
   "execution_count": 21,
   "id": "67b2adf1-a1f9-46cb-8e3c-3c5ac7bbde7e",
   "metadata": {},
   "outputs": [],
   "source": [
    "x=df_churn.drop(columns='Churn')\n",
    "y=df_churn['Churn']"
   ]
  },
  {
   "cell_type": "markdown",
   "id": "b0ba95be-b6eb-4da6-b061-6d743c97f24e",
   "metadata": {},
   "source": [
    "feature:<br>\n",
    "x='Dependents,OnlineSecurity,'OnlineBackup', 'InternetService', 'DeviceProtection', 'TechSupport', 'Contract', 'PaperlessBilling',Tenure,Monthly charge\n",
    "<br>\n",
    "y= Churn\n"
   ]
  },
  {
   "cell_type": "markdown",
   "id": "09838b56-3378-4f95-afaf-dd26ced29e69",
   "metadata": {},
   "source": [
    "## Scaling\n",
    "\n",
    "Pada permodelan machine learning akan dicoba menggunakan algoritma *Logistic Regression* dan *KNN* maka akan dilakukan scalling pada data kita. permodelan diharapkan memiliki skala yang sama sehingga akan maksimal dalam target. jika tidak dilakukan scaling maka variabel dengan skala besar akan mendominasi yang kecil. Pada data numerikal juga tidak memiliki outlier (**Tenure dan MonthlyCharges**) sehingga dapat digunakan MinMaxScaler()."
   ]
  },
  {
   "cell_type": "code",
   "execution_count": 22,
   "id": "3a110750-5e76-4202-8679-1bcc428380eb",
   "metadata": {},
   "outputs": [],
   "source": [
    "scaler = MinMaxScaler()"
   ]
  },
  {
   "cell_type": "markdown",
   "id": "11755dba-55e4-430e-9be4-7a7b7388f2c3",
   "metadata": {},
   "source": [
    "## Sampling\n",
    "\n",
    "Karena Data yang kita miliki tidak seimbang untuk mengatasinya sehingga kita akan menggunakan metode resampling agar data memiliki distribusi kelas yang lebih seimbang.\n",
    "\n",
    "Akan dilakukan Ujicoba Oversampling dan UnderSampling dan akan dilihat parameter mana yang lebih maksimal dalam permodelan kita. Dimana pada oversampling kita akan menggunakan : <br>\n",
    "SMOTE()\n",
    "\n",
    "Dan pada data Undersampling :<br>\n",
    "Nearmiss()\n"
   ]
  },
  {
   "cell_type": "code",
   "execution_count": 79,
   "id": "94c1a9a9-0082-4339-a817-e08dec2fc709",
   "metadata": {},
   "outputs": [],
   "source": [
    "#Digunakan untuk oversampling\n",
    "resample = SMOTE() \n",
    "\n",
    "#Digunakan untuk undersampling\n",
    "rus=NearMiss()\n"
   ]
  },
  {
   "cell_type": "markdown",
   "id": "110cdf43-6c59-4576-be33-6beda5602908",
   "metadata": {},
   "source": [
    "## Data Splitting\n",
    "\n",
    "pada permodelan digunakan train size = 0.7 sehingga data training kita adalah sebesar 70% dari dataset. kemudian karena menggunakan klasifikasi untuk memprediksi data yang sifatnya kategorik, kita menggunakan stratify =y agar proporsi y_train dan y_test sama."
   ]
  },
  {
   "cell_type": "code",
   "execution_count": 24,
   "id": "0ab390b4-616f-47c9-9f7f-51f522641b76",
   "metadata": {},
   "outputs": [],
   "source": [
    "x_train, x_test, y_train, y_test = train_test_split(x, y, stratify=y, train_size =0.7, random_state=42)\n"
   ]
  },
  {
   "cell_type": "markdown",
   "id": "c231fcce-d452-4dea-8c85-399352714687",
   "metadata": {},
   "source": [
    "## Data Transformer (Encoding)\n",
    "\n",
    "1. Merubah feature **Dependent,OnlineSecurity,'OnlineBackup', 'InternetService', 'DeviceProtection', 'TechSupport', 'PaperlessBilling'** karena fitur ini jumlah unique nya hanya sedikit dan tidak memiliki kelas/urutan(ordinal) sehingga kita encode menggunakan **One Hot Encoding**.\n",
    "\n",
    "2. Merubah feature **Contract** menggunakan **Ordinal Encoder** karena datanya memiliki kelas yaitu Month-to-month menjadi kelas 3, One Year menjadi kelas 2, two year menjadi kelas 1.\n"
   ]
  },
  {
   "cell_type": "code",
   "execution_count": 25,
   "id": "ea688751-ca0b-4646-87c8-09d97b5998dc",
   "metadata": {},
   "outputs": [],
   "source": [
    "ordinal=[{'col' : 'Contract', \n",
    "            'mapping' :{'Month-to-month' : 3, \n",
    "                        'One year' : 2,\n",
    "                        'Two year' : 1}\n",
    "           }]"
   ]
  },
  {
   "cell_type": "code",
   "execution_count": 26,
   "id": "06b7db36-1f00-408f-830e-fc0ee57bb767",
   "metadata": {},
   "outputs": [],
   "source": [
    "transformer=ColumnTransformer([\n",
    "    ('one hot',OneHotEncoder(drop='first'),['Dependents','OnlineSecurity','OnlineBackup', 'InternetService', 'DeviceProtection', 'TechSupport', 'PaperlessBilling']),\n",
    "    ('ordinal',ce.OrdinalEncoder(mapping=ordinal),['Contract'])\n",
    "],remainder='passthrough')"
   ]
  },
  {
   "cell_type": "markdown",
   "id": "cdc11963-14fe-436b-a2af-b2d52ccc0a71",
   "metadata": {
    "tags": []
   },
   "source": [
    "## Modelling"
   ]
  },
  {
   "cell_type": "code",
   "execution_count": 27,
   "id": "d8301716-ebcb-4873-9e05-8dd7e1c1163f",
   "metadata": {},
   "outputs": [],
   "source": [
    "from sklearn.linear_model import LogisticRegression\n",
    "from sklearn.tree import DecisionTreeClassifier\n",
    "from sklearn.neighbors import KNeighborsClassifier\n",
    "from sklearn.ensemble import RandomForestClassifier,AdaBoostClassifier,GradientBoostingClassifier\n",
    "from xgboost.sklearn import XGBClassifier\n",
    "from sklearn.model_selection import StratifiedKFold,cross_val_score,GridSearchCV\n",
    "from sklearn.metrics import accuracy_score, recall_score, precision_score, f1_score, confusion_matrix, classification_report, plot_confusion_matrix, roc_auc_score\n",
    "from imblearn.pipeline import Pipeline\n",
    "from sklearn.metrics import classification_report"
   ]
  },
  {
   "cell_type": "code",
   "execution_count": 28,
   "id": "caf15ed4-0008-439c-9f9e-9e7cda95aa1f",
   "metadata": {},
   "outputs": [],
   "source": [
    "# Model\n",
    "logreg=LogisticRegression(random_state=42)\n",
    "knn=KNeighborsClassifier(n_neighbors=62)\n",
    "tree=DecisionTreeClassifier(random_state=42,max_depth=3)\n",
    "rf = RandomForestClassifier(random_state=42,max_depth=3)\n",
    "ada=AdaBoostClassifier(tree,learning_rate=0.1,random_state=42)\n",
    "gbc=GradientBoostingClassifier(learning_rate=0.1,random_state=42,max_depth=3)\n",
    "xgb = XGBClassifier(learning_rate=0.1,random_state=42,max_depth=3)\n"
   ]
  },
  {
   "cell_type": "code",
   "execution_count": 29,
   "id": "daf21d77-6c34-4ea1-8eea-87f30d492000",
   "metadata": {},
   "outputs": [],
   "source": [
    "skfold= StratifiedKFold(n_splits = 5)"
   ]
  },
  {
   "cell_type": "code",
   "execution_count": 30,
   "id": "07d9c39d-f76a-4a78-a4d9-ebacfd37be8d",
   "metadata": {},
   "outputs": [],
   "source": [
    "models = [logreg, knn, tree, rf, ada, gbc, xgb]\n",
    "\n",
    "mean_with_sampling = []\n",
    "std_with_sampling = []\n",
    "mean_without_sampling = []\n",
    "std_without_sampling = []\n",
    "\n",
    "mean_with_undersampling=[]\n",
    "std_with_undersampling=[]\n",
    "\n",
    "for model in  models :\n",
    "\n",
    "    # modeling with oversampling\n",
    "    pipe_model_with_sampling = Pipeline([\n",
    "        ('prep', transformer),\n",
    "        ('scaler', scaler),\n",
    "        ('resample', resample),\n",
    "        ('model', model)\n",
    "    ])\n",
    "\n",
    "    model_cv_with_sampling = cross_val_score(\n",
    "        estimator = pipe_model_with_sampling,\n",
    "        X = x_train,\n",
    "        y = y_train,\n",
    "        cv = skfold,\n",
    "        scoring = 'f1',\n",
    "        n_jobs = -1\n",
    "    )\n",
    "    mean_with_sampling.append(model_cv_with_sampling.mean())\n",
    "    std_with_sampling.append(model_cv_with_sampling.std())\n",
    "\n",
    "        # modeling without oversampling\n",
    "\n",
    "    pipe_model_without_sampling = Pipeline([\n",
    "        ('prep', transformer),\n",
    "        ('scaler', scaler),\n",
    "        ('model', model)\n",
    "    ])\n",
    "\n",
    "    model_cv_without_sampling = cross_val_score(\n",
    "        estimator = pipe_model_without_sampling,\n",
    "        X = x_train,\n",
    "        y = y_train,\n",
    "        cv = skfold,\n",
    "        scoring = 'f1',\n",
    "        n_jobs = -1\n",
    "    )\n",
    "    \n",
    "    mean_without_sampling.append(model_cv_without_sampling.mean())\n",
    "    std_without_sampling.append(model_cv_without_sampling.std())\n",
    "    \n",
    "    # modeling with undersampling\n",
    "    pipe_model_with_undersampling = Pipeline([\n",
    "        ('prep', transformer),\n",
    "        ('scaler', scaler),\n",
    "        ('resample', rus),\n",
    "        ('model', model)\n",
    "    ])\n",
    "\n",
    "    model_cv_with_undersampling = cross_val_score(\n",
    "        estimator = pipe_model_with_undersampling,\n",
    "        X = x_train,\n",
    "        y = y_train,\n",
    "        cv = skfold,\n",
    "        scoring = 'f1',\n",
    "        n_jobs = -1\n",
    "    )\n",
    "    mean_with_undersampling.append(model_cv_with_undersampling.mean())\n",
    "    std_with_undersampling.append(model_cv_with_undersampling.std())\n",
    "    \n"
   ]
  },
  {
   "cell_type": "code",
   "execution_count": 31,
   "id": "3087a570-3200-43cd-9a55-beea0b8cfa8c",
   "metadata": {},
   "outputs": [
    {
     "data": {
      "text/html": [
       "<div>\n",
       "<style scoped>\n",
       "    .dataframe tbody tr th:only-of-type {\n",
       "        vertical-align: middle;\n",
       "    }\n",
       "\n",
       "    .dataframe tbody tr th {\n",
       "        vertical-align: top;\n",
       "    }\n",
       "\n",
       "    .dataframe thead th {\n",
       "        text-align: right;\n",
       "    }\n",
       "</style>\n",
       "<table border=\"1\" class=\"dataframe\">\n",
       "  <thead>\n",
       "    <tr style=\"text-align: right;\">\n",
       "      <th></th>\n",
       "      <th>model</th>\n",
       "      <th>mean_f1_with_SMOTE</th>\n",
       "      <th>mean_f1_without_sampling</th>\n",
       "      <th>mean_f1_with_NearMiss:</th>\n",
       "      <th>std_f1_with_SMOTE</th>\n",
       "      <th>std_f1_without_sampling</th>\n",
       "      <th>std_f1_with_NearMiss</th>\n",
       "    </tr>\n",
       "  </thead>\n",
       "  <tbody>\n",
       "    <tr>\n",
       "      <th>4</th>\n",
       "      <td>AdaBoost</td>\n",
       "      <td>0.633858</td>\n",
       "      <td>0.562183</td>\n",
       "      <td>0.427797</td>\n",
       "      <td>0.018809</td>\n",
       "      <td>0.014880</td>\n",
       "      <td>0.021251</td>\n",
       "    </tr>\n",
       "    <tr>\n",
       "      <th>2</th>\n",
       "      <td>Decision Tree</td>\n",
       "      <td>0.624919</td>\n",
       "      <td>0.491504</td>\n",
       "      <td>0.482766</td>\n",
       "      <td>0.018636</td>\n",
       "      <td>0.041827</td>\n",
       "      <td>0.030625</td>\n",
       "    </tr>\n",
       "    <tr>\n",
       "      <th>5</th>\n",
       "      <td>GradienBoost</td>\n",
       "      <td>0.624570</td>\n",
       "      <td>0.554598</td>\n",
       "      <td>0.432120</td>\n",
       "      <td>0.017364</td>\n",
       "      <td>0.025460</td>\n",
       "      <td>0.029475</td>\n",
       "    </tr>\n",
       "    <tr>\n",
       "      <th>6</th>\n",
       "      <td>XGBoost</td>\n",
       "      <td>0.619211</td>\n",
       "      <td>0.576220</td>\n",
       "      <td>0.433061</td>\n",
       "      <td>0.019087</td>\n",
       "      <td>0.028195</td>\n",
       "      <td>0.018295</td>\n",
       "    </tr>\n",
       "    <tr>\n",
       "      <th>0</th>\n",
       "      <td>Logistic Regression</td>\n",
       "      <td>0.619108</td>\n",
       "      <td>0.577265</td>\n",
       "      <td>0.522021</td>\n",
       "      <td>0.014864</td>\n",
       "      <td>0.032828</td>\n",
       "      <td>0.016474</td>\n",
       "    </tr>\n",
       "    <tr>\n",
       "      <th>3</th>\n",
       "      <td>Random Forest</td>\n",
       "      <td>0.612765</td>\n",
       "      <td>0.474495</td>\n",
       "      <td>0.483862</td>\n",
       "      <td>0.003986</td>\n",
       "      <td>0.047284</td>\n",
       "      <td>0.009613</td>\n",
       "    </tr>\n",
       "    <tr>\n",
       "      <th>1</th>\n",
       "      <td>KNN</td>\n",
       "      <td>0.592290</td>\n",
       "      <td>0.567144</td>\n",
       "      <td>0.475206</td>\n",
       "      <td>0.015114</td>\n",
       "      <td>0.028458</td>\n",
       "      <td>0.021061</td>\n",
       "    </tr>\n",
       "  </tbody>\n",
       "</table>\n",
       "</div>"
      ],
      "text/plain": [
       "                 model  mean_f1_with_SMOTE  mean_f1_without_sampling  \\\n",
       "4             AdaBoost            0.633858                  0.562183   \n",
       "2        Decision Tree            0.624919                  0.491504   \n",
       "5         GradienBoost            0.624570                  0.554598   \n",
       "6              XGBoost            0.619211                  0.576220   \n",
       "0  Logistic Regression            0.619108                  0.577265   \n",
       "3        Random Forest            0.612765                  0.474495   \n",
       "1                  KNN            0.592290                  0.567144   \n",
       "\n",
       "   mean_f1_with_NearMiss:  std_f1_with_SMOTE  std_f1_without_sampling  \\\n",
       "4                0.427797           0.018809                 0.014880   \n",
       "2                0.482766           0.018636                 0.041827   \n",
       "5                0.432120           0.017364                 0.025460   \n",
       "6                0.433061           0.019087                 0.028195   \n",
       "0                0.522021           0.014864                 0.032828   \n",
       "3                0.483862           0.003986                 0.047284   \n",
       "1                0.475206           0.015114                 0.028458   \n",
       "\n",
       "   std_f1_with_NearMiss  \n",
       "4              0.021251  \n",
       "2              0.030625  \n",
       "5              0.029475  \n",
       "6              0.018295  \n",
       "0              0.016474  \n",
       "3              0.009613  \n",
       "1              0.021061  "
      ]
     },
     "execution_count": 31,
     "metadata": {},
     "output_type": "execute_result"
    }
   ],
   "source": [
    "pd.DataFrame({\n",
    "    'model' : ['Logistic Regression', 'KNN', 'Decision Tree', 'Random Forest', 'AdaBoost', 'GradienBoost', 'XGBoost'],\n",
    "    'mean_f1_with_SMOTE' : mean_with_sampling,\n",
    "    'mean_f1_without_sampling' : mean_without_sampling,\n",
    "    'mean_f1_with_NearMiss:' : mean_with_undersampling,\n",
    "    'std_f1_with_SMOTE' : std_with_sampling,\n",
    "    'std_f1_without_sampling' : std_without_sampling,\n",
    "    'std_f1_with_NearMiss': std_with_undersampling,\n",
    "    \n",
    "\n",
    "}).sort_values('mean_f1_with_SMOTE', ascending=False)"
   ]
  },
  {
   "cell_type": "markdown",
   "id": "a6ca4200-2ec5-4173-a643-e87b15d47102",
   "metadata": {},
   "source": [
    "Pada hasil modelling nilai rata-rata dari validasi set nilainya lebih baik menggunakan sampling menggunakan SMOTE dibandingkan tanpa sampling dan menggunakan undersampling NearMiss. Sehingga selanjutnya permodelan akan menggunakan sampling dengan menggunakan metode Oversampling SMOTE, karena terbukti dapat meningkatkan performa dari algoritma klasifikasi.\n",
    "\n",
    "Dapat dilihat bahwa pada hasil modelling *AdaBoost* memiliki nilai yang yang paling tinggi untuk f1 skor nya yaitu sebesar 0.63 dengan standar deviasi yang cukup stabil. namun, nilai f1 skornya nya cenderung tidak jauh berbeda dengan model-model yang lain sehingga semua model akan di train dan ditest ke data set. Selanjutnya akan dilihat tiga model terbaik untuk dilakukan tuning."
   ]
  },
  {
   "cell_type": "code",
   "execution_count": 32,
   "id": "75eb28ec-7109-4882-998e-f657e4099d9c",
   "metadata": {},
   "outputs": [],
   "source": [
    "from sklearn.metrics import classification_report,confusion_matrix"
   ]
  },
  {
   "cell_type": "code",
   "execution_count": 33,
   "id": "eb5a791a-b738-4eab-b59d-ac80876b34fa",
   "metadata": {},
   "outputs": [],
   "source": [
    "models = [logreg, knn, tree, rf, ada, gbc, xgb]\n",
    "score_f1_test = []\n",
    "score_f1_train = []\n",
    "\n",
    "def y_pred_function(model):\n",
    "    estimator = Pipeline([\n",
    "        ('prep', transformer),\n",
    "        ('scaler', scaler),\n",
    "        ('resample', resample),\n",
    "        ('model', model)\n",
    "    ])\n",
    "    \n",
    "    estimator.fit(x_train,y_train)\n",
    "    return estimator\n",
    "\n",
    "for model in models:\n",
    "    estimator = y_pred_function(model)\n",
    "    y_pred_test = estimator.predict(x_test)\n",
    "    y_pred_train = estimator.predict(x_train)\n",
    "    score_f1_test.append(f1_score(y_test,y_pred_test))\n",
    "    score_f1_train.append(f1_score(y_train,y_pred_train))\n",
    "    \n",
    "\n"
   ]
  },
  {
   "cell_type": "code",
   "execution_count": 34,
   "id": "577423c3-341c-4349-8d1a-a2ee042e9088",
   "metadata": {},
   "outputs": [
    {
     "data": {
      "text/html": [
       "<div>\n",
       "<style scoped>\n",
       "    .dataframe tbody tr th:only-of-type {\n",
       "        vertical-align: middle;\n",
       "    }\n",
       "\n",
       "    .dataframe tbody tr th {\n",
       "        vertical-align: top;\n",
       "    }\n",
       "\n",
       "    .dataframe thead th {\n",
       "        text-align: right;\n",
       "    }\n",
       "</style>\n",
       "<table border=\"1\" class=\"dataframe\">\n",
       "  <thead>\n",
       "    <tr style=\"text-align: right;\">\n",
       "      <th></th>\n",
       "      <th>f1 score (train set)</th>\n",
       "      <th>f1 score (validation set)</th>\n",
       "      <th>f1 score (test set)</th>\n",
       "    </tr>\n",
       "    <tr>\n",
       "      <th>model</th>\n",
       "      <th></th>\n",
       "      <th></th>\n",
       "      <th></th>\n",
       "    </tr>\n",
       "  </thead>\n",
       "  <tbody>\n",
       "    <tr>\n",
       "      <th>XGBoost</th>\n",
       "      <td>0.668793</td>\n",
       "      <td>0.619211</td>\n",
       "      <td>0.645094</td>\n",
       "    </tr>\n",
       "    <tr>\n",
       "      <th>AdaBoost</th>\n",
       "      <td>0.661111</td>\n",
       "      <td>0.633858</td>\n",
       "      <td>0.643533</td>\n",
       "    </tr>\n",
       "    <tr>\n",
       "      <th>GradienBoost</th>\n",
       "      <td>0.663582</td>\n",
       "      <td>0.624570</td>\n",
       "      <td>0.643386</td>\n",
       "    </tr>\n",
       "    <tr>\n",
       "      <th>Logistic Regression</th>\n",
       "      <td>0.627332</td>\n",
       "      <td>0.619108</td>\n",
       "      <td>0.638000</td>\n",
       "    </tr>\n",
       "    <tr>\n",
       "      <th>Decision Tree</th>\n",
       "      <td>0.626632</td>\n",
       "      <td>0.624919</td>\n",
       "      <td>0.629555</td>\n",
       "    </tr>\n",
       "    <tr>\n",
       "      <th>Random Forest</th>\n",
       "      <td>0.619707</td>\n",
       "      <td>0.612765</td>\n",
       "      <td>0.629384</td>\n",
       "    </tr>\n",
       "    <tr>\n",
       "      <th>KNN</th>\n",
       "      <td>0.612763</td>\n",
       "      <td>0.592290</td>\n",
       "      <td>0.610909</td>\n",
       "    </tr>\n",
       "  </tbody>\n",
       "</table>\n",
       "</div>"
      ],
      "text/plain": [
       "                     f1 score (train set)  f1 score (validation set)  \\\n",
       "model                                                                  \n",
       "XGBoost                          0.668793                   0.619211   \n",
       "AdaBoost                         0.661111                   0.633858   \n",
       "GradienBoost                     0.663582                   0.624570   \n",
       "Logistic Regression              0.627332                   0.619108   \n",
       "Decision Tree                    0.626632                   0.624919   \n",
       "Random Forest                    0.619707                   0.612765   \n",
       "KNN                              0.612763                   0.592290   \n",
       "\n",
       "                     f1 score (test set)  \n",
       "model                                     \n",
       "XGBoost                         0.645094  \n",
       "AdaBoost                        0.643533  \n",
       "GradienBoost                    0.643386  \n",
       "Logistic Regression             0.638000  \n",
       "Decision Tree                   0.629555  \n",
       "Random Forest                   0.629384  \n",
       "KNN                             0.610909  "
      ]
     },
     "execution_count": 34,
     "metadata": {},
     "output_type": "execute_result"
    }
   ],
   "source": [
    "pd.DataFrame({'model':['Logistic Regression', 'KNN', 'Decision Tree', 'Random Forest', 'AdaBoost', 'GradienBoost', 'XGBoost'],\n",
    "             'f1 score (train set)': score_f1_train,\n",
    "             'f1 score (validation set)':mean_with_sampling,\n",
    "             'f1 score (test set)': score_f1_test}).set_index('model').sort_values(by='f1 score (test set)',ascending=False)"
   ]
  },
  {
   "cell_type": "markdown",
   "id": "c7eac8de-0e69-4101-a214-597f499bf404",
   "metadata": {},
   "source": [
    "Berdasarkan hasil train dan test pada data. pada kasus ini didapat hasil paling bagus pada model **XGBoost** sebesar 66% diikuti model model **Gradient Boost**, **Ada Boost**  yang nilainya cukup mirip sehingga pada ketiga model ini dilakukan tuning untuk melihat bagaimana performa dari ketiga model tersebut untuk mencari model yang memiliki perfoma paling maksimal."
   ]
  },
  {
   "cell_type": "markdown",
   "id": "83895ad8-d69e-4d8d-9454-9803611440ad",
   "metadata": {},
   "source": [
    "# Tuning"
   ]
  },
  {
   "cell_type": "code",
   "execution_count": 35,
   "id": "2066138f-9bee-4f2d-a7ab-68f7be5c0785",
   "metadata": {},
   "outputs": [],
   "source": [
    "# Model\n",
    "xgb = XGBClassifier(learning_rate=0.1,random_state=42,max_depth=3)\n",
    "ada=AdaBoostClassifier(tree,learning_rate=0.1,random_state=42)\n",
    "gbc=GradientBoostingClassifier(learning_rate=0.1,random_state=42,max_depth=3)\n"
   ]
  },
  {
   "cell_type": "code",
   "execution_count": 37,
   "id": "06766b2d-cdb2-405a-a290-10be048e3262",
   "metadata": {},
   "outputs": [],
   "source": [
    "# Estimator\n",
    "tunning_models=[xgb,ada,gbc]\n",
    "for model in tunning_models: \n",
    "    estimator=Pipeline([\n",
    "        ('processing',transformer),('scalar',scaler),('sampling',resample),\n",
    "        ('model',model)\n",
    "    ])"
   ]
  },
  {
   "cell_type": "code",
   "execution_count": 38,
   "id": "a5b2c7cb-3945-4089-9a30-d74b43a5a786",
   "metadata": {},
   "outputs": [],
   "source": [
    "hyperparam=[\n",
    "    {'model':[xgb],\n",
    "    'model__learning_rate':[0.25],\n",
    "    'model__n_estimators':[50],\n",
    "    'model__max_depth':[3,4,5]},\n",
    "    {'model':[xgb],\n",
    "    'model__learning_rate':[0.5],\n",
    "    'model__n_estimators':[100],\n",
    "    'model__max_depth':[3,4,5]},\n",
    "    {'model':[xgb],\n",
    "    'model__learning_rate':[0.1],\n",
    "    'model__n_estimators':[200],\n",
    "    'model__max_depth':[3,4,5]},\n",
    "     {'model':[ada],\n",
    "    'model__learning_rate':[0.25],\n",
    "    'model__base_estimator__criterion':['gini','entropy'],\n",
    "    'model__base_estimator__max_depth':[1,2,3,4,5],\n",
    "    'model__n_estimators':[50]},\n",
    "    {'model':[ada],\n",
    "    'model__learning_rate':[0.5],\n",
    "    'model__base_estimator__criterion':['gini','entropy'],\n",
    "    'model__base_estimator__max_depth':[1,2,3,4,5],\n",
    "    'model__n_estimators':[100]},\n",
    "    {'model':[ada],\n",
    "    'model__learning_rate':[0.1],\n",
    "    'model__base_estimator__criterion':['gini','entropy'],\n",
    "    'model__base_estimator__max_depth':[1,2,3,4,5],\n",
    "    'model__n_estimators':[200]},\n",
    "    {'model':[gbc],\n",
    "    'model__learning_rate':[0.25],\n",
    "    'model__n_estimators':[50],\n",
    "    'model__max_depth':[1,2,3,4,5]},\n",
    "    {'model':[gbc],\n",
    "    'model__learning_rate':[0.5],\n",
    "    'model__n_estimators':[100],\n",
    "    'model__max_depth':[1,2,3,4,5]},\n",
    "    {'model':[gbc],\n",
    "    'model__learning_rate':[0.1],\n",
    "    'model__n_estimators':[200],\n",
    "    'model__max_depth':[1,2,3,4,5]},\n",
    "]"
   ]
  },
  {
   "cell_type": "code",
   "execution_count": 39,
   "id": "9c658ff8-1f81-41d3-97f2-1ffc3b6211a4",
   "metadata": {},
   "outputs": [],
   "source": [
    "# Grid Search\n",
    "skfold=StratifiedKFold(n_splits=5)\n",
    "grid=GridSearchCV(estimator,\n",
    "                 param_grid=hyperparam,\n",
    "                 cv=skfold,\n",
    "                 scoring='f1',\n",
    "                 n_jobs=-1)"
   ]
  },
  {
   "cell_type": "code",
   "execution_count": 40,
   "id": "fff2e442-e7ac-497c-b084-347f02e0afb6",
   "metadata": {},
   "outputs": [
    {
     "data": {
      "text/html": [
       "<style>#sk-container-id-1 {color: black;background-color: white;}#sk-container-id-1 pre{padding: 0;}#sk-container-id-1 div.sk-toggleable {background-color: white;}#sk-container-id-1 label.sk-toggleable__label {cursor: pointer;display: block;width: 100%;margin-bottom: 0;padding: 0.3em;box-sizing: border-box;text-align: center;}#sk-container-id-1 label.sk-toggleable__label-arrow:before {content: \"▸\";float: left;margin-right: 0.25em;color: #696969;}#sk-container-id-1 label.sk-toggleable__label-arrow:hover:before {color: black;}#sk-container-id-1 div.sk-estimator:hover label.sk-toggleable__label-arrow:before {color: black;}#sk-container-id-1 div.sk-toggleable__content {max-height: 0;max-width: 0;overflow: hidden;text-align: left;background-color: #f0f8ff;}#sk-container-id-1 div.sk-toggleable__content pre {margin: 0.2em;color: black;border-radius: 0.25em;background-color: #f0f8ff;}#sk-container-id-1 input.sk-toggleable__control:checked~div.sk-toggleable__content {max-height: 200px;max-width: 100%;overflow: auto;}#sk-container-id-1 input.sk-toggleable__control:checked~label.sk-toggleable__label-arrow:before {content: \"▾\";}#sk-container-id-1 div.sk-estimator input.sk-toggleable__control:checked~label.sk-toggleable__label {background-color: #d4ebff;}#sk-container-id-1 div.sk-label input.sk-toggleable__control:checked~label.sk-toggleable__label {background-color: #d4ebff;}#sk-container-id-1 input.sk-hidden--visually {border: 0;clip: rect(1px 1px 1px 1px);clip: rect(1px, 1px, 1px, 1px);height: 1px;margin: -1px;overflow: hidden;padding: 0;position: absolute;width: 1px;}#sk-container-id-1 div.sk-estimator {font-family: monospace;background-color: #f0f8ff;border: 1px dotted black;border-radius: 0.25em;box-sizing: border-box;margin-bottom: 0.5em;}#sk-container-id-1 div.sk-estimator:hover {background-color: #d4ebff;}#sk-container-id-1 div.sk-parallel-item::after {content: \"\";width: 100%;border-bottom: 1px solid gray;flex-grow: 1;}#sk-container-id-1 div.sk-label:hover label.sk-toggleable__label {background-color: #d4ebff;}#sk-container-id-1 div.sk-serial::before {content: \"\";position: absolute;border-left: 1px solid gray;box-sizing: border-box;top: 0;bottom: 0;left: 50%;z-index: 0;}#sk-container-id-1 div.sk-serial {display: flex;flex-direction: column;align-items: center;background-color: white;padding-right: 0.2em;padding-left: 0.2em;position: relative;}#sk-container-id-1 div.sk-item {position: relative;z-index: 1;}#sk-container-id-1 div.sk-parallel {display: flex;align-items: stretch;justify-content: center;background-color: white;position: relative;}#sk-container-id-1 div.sk-item::before, #sk-container-id-1 div.sk-parallel-item::before {content: \"\";position: absolute;border-left: 1px solid gray;box-sizing: border-box;top: 0;bottom: 0;left: 50%;z-index: -1;}#sk-container-id-1 div.sk-parallel-item {display: flex;flex-direction: column;z-index: 1;position: relative;background-color: white;}#sk-container-id-1 div.sk-parallel-item:first-child::after {align-self: flex-end;width: 50%;}#sk-container-id-1 div.sk-parallel-item:last-child::after {align-self: flex-start;width: 50%;}#sk-container-id-1 div.sk-parallel-item:only-child::after {width: 0;}#sk-container-id-1 div.sk-dashed-wrapped {border: 1px dashed gray;margin: 0 0.4em 0.5em 0.4em;box-sizing: border-box;padding-bottom: 0.4em;background-color: white;}#sk-container-id-1 div.sk-label label {font-family: monospace;font-weight: bold;display: inline-block;line-height: 1.2em;}#sk-container-id-1 div.sk-label-container {text-align: center;}#sk-container-id-1 div.sk-container {/* jupyter's `normalize.less` sets `[hidden] { display: none; }` but bootstrap.min.css set `[hidden] { display: none !important; }` so we also need the `!important` here to be able to override the default hidden behavior on the sphinx rendered scikit-learn.org. See: https://github.com/scikit-learn/scikit-learn/issues/21755 */display: inline-block !important;position: relative;}#sk-container-id-1 div.sk-text-repr-fallback {display: none;}</style><div id=\"sk-container-id-1\" class=\"sk-top-container\"><div class=\"sk-text-repr-fallback\"><pre>GridSearchCV(cv=StratifiedKFold(n_splits=5, random_state=None, shuffle=False),\n",
       "             estimator=Pipeline(steps=[(&#x27;processing&#x27;,\n",
       "                                        ColumnTransformer(remainder=&#x27;passthrough&#x27;,\n",
       "                                                          transformers=[(&#x27;one &#x27;\n",
       "                                                                         &#x27;hot&#x27;,\n",
       "                                                                         OneHotEncoder(drop=&#x27;first&#x27;),\n",
       "                                                                         [&#x27;Dependents&#x27;,\n",
       "                                                                          &#x27;OnlineSecurity&#x27;,\n",
       "                                                                          &#x27;OnlineBackup&#x27;,\n",
       "                                                                          &#x27;InternetService&#x27;,\n",
       "                                                                          &#x27;DeviceProtection&#x27;,\n",
       "                                                                          &#x27;TechSupport&#x27;,\n",
       "                                                                          &#x27;PaperlessBilling&#x27;]),\n",
       "                                                                        (&#x27;ordinal&#x27;,\n",
       "                                                                         OrdinalEn...\n",
       "                          &#x27;model__max_depth&#x27;: [1, 2, 3, 4, 5],\n",
       "                          &#x27;model__n_estimators&#x27;: [50]},\n",
       "                         {&#x27;model&#x27;: [GradientBoostingClassifier(random_state=42)],\n",
       "                          &#x27;model__learning_rate&#x27;: [0.5],\n",
       "                          &#x27;model__max_depth&#x27;: [1, 2, 3, 4, 5],\n",
       "                          &#x27;model__n_estimators&#x27;: [100]},\n",
       "                         {&#x27;model&#x27;: [GradientBoostingClassifier(random_state=42)],\n",
       "                          &#x27;model__learning_rate&#x27;: [0.1],\n",
       "                          &#x27;model__max_depth&#x27;: [1, 2, 3, 4, 5],\n",
       "                          &#x27;model__n_estimators&#x27;: [200]}],\n",
       "             scoring=&#x27;f1&#x27;)</pre><b>In a Jupyter environment, please rerun this cell to show the HTML representation or trust the notebook. <br />On GitHub, the HTML representation is unable to render, please try loading this page with nbviewer.org.</b></div><div class=\"sk-container\" hidden><div class=\"sk-item sk-dashed-wrapped\"><div class=\"sk-label-container\"><div class=\"sk-label sk-toggleable\"><input class=\"sk-toggleable__control sk-hidden--visually\" id=\"sk-estimator-id-1\" type=\"checkbox\" ><label for=\"sk-estimator-id-1\" class=\"sk-toggleable__label sk-toggleable__label-arrow\">GridSearchCV</label><div class=\"sk-toggleable__content\"><pre>GridSearchCV(cv=StratifiedKFold(n_splits=5, random_state=None, shuffle=False),\n",
       "             estimator=Pipeline(steps=[(&#x27;processing&#x27;,\n",
       "                                        ColumnTransformer(remainder=&#x27;passthrough&#x27;,\n",
       "                                                          transformers=[(&#x27;one &#x27;\n",
       "                                                                         &#x27;hot&#x27;,\n",
       "                                                                         OneHotEncoder(drop=&#x27;first&#x27;),\n",
       "                                                                         [&#x27;Dependents&#x27;,\n",
       "                                                                          &#x27;OnlineSecurity&#x27;,\n",
       "                                                                          &#x27;OnlineBackup&#x27;,\n",
       "                                                                          &#x27;InternetService&#x27;,\n",
       "                                                                          &#x27;DeviceProtection&#x27;,\n",
       "                                                                          &#x27;TechSupport&#x27;,\n",
       "                                                                          &#x27;PaperlessBilling&#x27;]),\n",
       "                                                                        (&#x27;ordinal&#x27;,\n",
       "                                                                         OrdinalEn...\n",
       "                          &#x27;model__max_depth&#x27;: [1, 2, 3, 4, 5],\n",
       "                          &#x27;model__n_estimators&#x27;: [50]},\n",
       "                         {&#x27;model&#x27;: [GradientBoostingClassifier(random_state=42)],\n",
       "                          &#x27;model__learning_rate&#x27;: [0.5],\n",
       "                          &#x27;model__max_depth&#x27;: [1, 2, 3, 4, 5],\n",
       "                          &#x27;model__n_estimators&#x27;: [100]},\n",
       "                         {&#x27;model&#x27;: [GradientBoostingClassifier(random_state=42)],\n",
       "                          &#x27;model__learning_rate&#x27;: [0.1],\n",
       "                          &#x27;model__max_depth&#x27;: [1, 2, 3, 4, 5],\n",
       "                          &#x27;model__n_estimators&#x27;: [200]}],\n",
       "             scoring=&#x27;f1&#x27;)</pre></div></div></div><div class=\"sk-parallel\"><div class=\"sk-parallel-item\"><div class=\"sk-item\"><div class=\"sk-label-container\"><div class=\"sk-label sk-toggleable\"><input class=\"sk-toggleable__control sk-hidden--visually\" id=\"sk-estimator-id-2\" type=\"checkbox\" ><label for=\"sk-estimator-id-2\" class=\"sk-toggleable__label sk-toggleable__label-arrow\">estimator: Pipeline</label><div class=\"sk-toggleable__content\"><pre>Pipeline(steps=[(&#x27;processing&#x27;,\n",
       "                 ColumnTransformer(remainder=&#x27;passthrough&#x27;,\n",
       "                                   transformers=[(&#x27;one hot&#x27;,\n",
       "                                                  OneHotEncoder(drop=&#x27;first&#x27;),\n",
       "                                                  [&#x27;Dependents&#x27;,\n",
       "                                                   &#x27;OnlineSecurity&#x27;,\n",
       "                                                   &#x27;OnlineBackup&#x27;,\n",
       "                                                   &#x27;InternetService&#x27;,\n",
       "                                                   &#x27;DeviceProtection&#x27;,\n",
       "                                                   &#x27;TechSupport&#x27;,\n",
       "                                                   &#x27;PaperlessBilling&#x27;]),\n",
       "                                                 (&#x27;ordinal&#x27;,\n",
       "                                                  OrdinalEncoder(mapping=[{&#x27;col&#x27;: &#x27;Contract&#x27;,\n",
       "                                                                           &#x27;mapping&#x27;: {&#x27;Month-to-month&#x27;: 3,\n",
       "                                                                                       &#x27;One year&#x27;: 2,\n",
       "                                                                                       &#x27;Two year&#x27;: 1}}]),\n",
       "                                                  [&#x27;Contract&#x27;])])),\n",
       "                (&#x27;scalar&#x27;, MinMaxScaler()), (&#x27;sampling&#x27;, SMOTE()),\n",
       "                (&#x27;model&#x27;, GradientBoostingClassifier(random_state=42))])</pre></div></div></div><div class=\"sk-serial\"><div class=\"sk-item\"><div class=\"sk-serial\"><div class=\"sk-item sk-dashed-wrapped\"><div class=\"sk-label-container\"><div class=\"sk-label sk-toggleable\"><input class=\"sk-toggleable__control sk-hidden--visually\" id=\"sk-estimator-id-3\" type=\"checkbox\" ><label for=\"sk-estimator-id-3\" class=\"sk-toggleable__label sk-toggleable__label-arrow\">processing: ColumnTransformer</label><div class=\"sk-toggleable__content\"><pre>ColumnTransformer(remainder=&#x27;passthrough&#x27;,\n",
       "                  transformers=[(&#x27;one hot&#x27;, OneHotEncoder(drop=&#x27;first&#x27;),\n",
       "                                 [&#x27;Dependents&#x27;, &#x27;OnlineSecurity&#x27;,\n",
       "                                  &#x27;OnlineBackup&#x27;, &#x27;InternetService&#x27;,\n",
       "                                  &#x27;DeviceProtection&#x27;, &#x27;TechSupport&#x27;,\n",
       "                                  &#x27;PaperlessBilling&#x27;]),\n",
       "                                (&#x27;ordinal&#x27;,\n",
       "                                 OrdinalEncoder(mapping=[{&#x27;col&#x27;: &#x27;Contract&#x27;,\n",
       "                                                          &#x27;mapping&#x27;: {&#x27;Month-to-month&#x27;: 3,\n",
       "                                                                      &#x27;One year&#x27;: 2,\n",
       "                                                                      &#x27;Two year&#x27;: 1}}]),\n",
       "                                 [&#x27;Contract&#x27;])])</pre></div></div></div><div class=\"sk-parallel\"><div class=\"sk-parallel-item\"><div class=\"sk-item\"><div class=\"sk-label-container\"><div class=\"sk-label sk-toggleable\"><input class=\"sk-toggleable__control sk-hidden--visually\" id=\"sk-estimator-id-4\" type=\"checkbox\" ><label for=\"sk-estimator-id-4\" class=\"sk-toggleable__label sk-toggleable__label-arrow\">one hot</label><div class=\"sk-toggleable__content\"><pre>[&#x27;Dependents&#x27;, &#x27;OnlineSecurity&#x27;, &#x27;OnlineBackup&#x27;, &#x27;InternetService&#x27;, &#x27;DeviceProtection&#x27;, &#x27;TechSupport&#x27;, &#x27;PaperlessBilling&#x27;]</pre></div></div></div><div class=\"sk-serial\"><div class=\"sk-item\"><div class=\"sk-estimator sk-toggleable\"><input class=\"sk-toggleable__control sk-hidden--visually\" id=\"sk-estimator-id-5\" type=\"checkbox\" ><label for=\"sk-estimator-id-5\" class=\"sk-toggleable__label sk-toggleable__label-arrow\">OneHotEncoder</label><div class=\"sk-toggleable__content\"><pre>OneHotEncoder(drop=&#x27;first&#x27;)</pre></div></div></div></div></div></div><div class=\"sk-parallel-item\"><div class=\"sk-item\"><div class=\"sk-label-container\"><div class=\"sk-label sk-toggleable\"><input class=\"sk-toggleable__control sk-hidden--visually\" id=\"sk-estimator-id-6\" type=\"checkbox\" ><label for=\"sk-estimator-id-6\" class=\"sk-toggleable__label sk-toggleable__label-arrow\">ordinal</label><div class=\"sk-toggleable__content\"><pre>[&#x27;Contract&#x27;]</pre></div></div></div><div class=\"sk-serial\"><div class=\"sk-item\"><div class=\"sk-estimator sk-toggleable\"><input class=\"sk-toggleable__control sk-hidden--visually\" id=\"sk-estimator-id-7\" type=\"checkbox\" ><label for=\"sk-estimator-id-7\" class=\"sk-toggleable__label sk-toggleable__label-arrow\">OrdinalEncoder</label><div class=\"sk-toggleable__content\"><pre>OrdinalEncoder(mapping=[{&#x27;col&#x27;: &#x27;Contract&#x27;,\n",
       "                         &#x27;mapping&#x27;: {&#x27;Month-to-month&#x27;: 3, &#x27;One year&#x27;: 2,\n",
       "                                     &#x27;Two year&#x27;: 1}}])</pre></div></div></div></div></div></div><div class=\"sk-parallel-item\"><div class=\"sk-item\"><div class=\"sk-label-container\"><div class=\"sk-label sk-toggleable\"><input class=\"sk-toggleable__control sk-hidden--visually\" id=\"sk-estimator-id-8\" type=\"checkbox\" ><label for=\"sk-estimator-id-8\" class=\"sk-toggleable__label sk-toggleable__label-arrow\">remainder</label><div class=\"sk-toggleable__content\"><pre>[&#x27;tenure&#x27;, &#x27;MonthlyCharges&#x27;]</pre></div></div></div><div class=\"sk-serial\"><div class=\"sk-item\"><div class=\"sk-estimator sk-toggleable\"><input class=\"sk-toggleable__control sk-hidden--visually\" id=\"sk-estimator-id-9\" type=\"checkbox\" ><label for=\"sk-estimator-id-9\" class=\"sk-toggleable__label sk-toggleable__label-arrow\">passthrough</label><div class=\"sk-toggleable__content\"><pre>passthrough</pre></div></div></div></div></div></div></div></div><div class=\"sk-item\"><div class=\"sk-estimator sk-toggleable\"><input class=\"sk-toggleable__control sk-hidden--visually\" id=\"sk-estimator-id-10\" type=\"checkbox\" ><label for=\"sk-estimator-id-10\" class=\"sk-toggleable__label sk-toggleable__label-arrow\">MinMaxScaler</label><div class=\"sk-toggleable__content\"><pre>MinMaxScaler()</pre></div></div></div><div class=\"sk-item\"><div class=\"sk-estimator sk-toggleable\"><input class=\"sk-toggleable__control sk-hidden--visually\" id=\"sk-estimator-id-11\" type=\"checkbox\" ><label for=\"sk-estimator-id-11\" class=\"sk-toggleable__label sk-toggleable__label-arrow\">SMOTE</label><div class=\"sk-toggleable__content\"><pre>SMOTE()</pre></div></div></div><div class=\"sk-item\"><div class=\"sk-estimator sk-toggleable\"><input class=\"sk-toggleable__control sk-hidden--visually\" id=\"sk-estimator-id-12\" type=\"checkbox\" ><label for=\"sk-estimator-id-12\" class=\"sk-toggleable__label sk-toggleable__label-arrow\">GradientBoostingClassifier</label><div class=\"sk-toggleable__content\"><pre>GradientBoostingClassifier(random_state=42)</pre></div></div></div></div></div></div></div></div></div></div></div></div>"
      ],
      "text/plain": [
       "GridSearchCV(cv=StratifiedKFold(n_splits=5, random_state=None, shuffle=False),\n",
       "             estimator=Pipeline(steps=[('processing',\n",
       "                                        ColumnTransformer(remainder='passthrough',\n",
       "                                                          transformers=[('one '\n",
       "                                                                         'hot',\n",
       "                                                                         OneHotEncoder(drop='first'),\n",
       "                                                                         ['Dependents',\n",
       "                                                                          'OnlineSecurity',\n",
       "                                                                          'OnlineBackup',\n",
       "                                                                          'InternetService',\n",
       "                                                                          'DeviceProtection',\n",
       "                                                                          'TechSupport',\n",
       "                                                                          'PaperlessBilling']),\n",
       "                                                                        ('ordinal',\n",
       "                                                                         OrdinalEn...\n",
       "                          'model__max_depth': [1, 2, 3, 4, 5],\n",
       "                          'model__n_estimators': [50]},\n",
       "                         {'model': [GradientBoostingClassifier(random_state=42)],\n",
       "                          'model__learning_rate': [0.5],\n",
       "                          'model__max_depth': [1, 2, 3, 4, 5],\n",
       "                          'model__n_estimators': [100]},\n",
       "                         {'model': [GradientBoostingClassifier(random_state=42)],\n",
       "                          'model__learning_rate': [0.1],\n",
       "                          'model__max_depth': [1, 2, 3, 4, 5],\n",
       "                          'model__n_estimators': [200]}],\n",
       "             scoring='f1')"
      ]
     },
     "execution_count": 40,
     "metadata": {},
     "output_type": "execute_result"
    }
   ],
   "source": [
    "grid.fit(x_train,y_train)"
   ]
  },
  {
   "cell_type": "code",
   "execution_count": 72,
   "id": "0c104b1e-f366-49a2-a192-f9a2a864f16d",
   "metadata": {},
   "outputs": [
    {
     "data": {
      "text/plain": [
       "({'model': XGBClassifier(base_score=None, booster=None, callbacks=None,\n",
       "                colsample_bylevel=None, colsample_bynode=None,\n",
       "                colsample_bytree=None, early_stopping_rounds=None,\n",
       "                enable_categorical=False, eval_metric=None, feature_types=None,\n",
       "                gamma=None, gpu_id=None, grow_policy=None, importance_type=None,\n",
       "                interaction_constraints=None, learning_rate=0.25, max_bin=None,\n",
       "                max_cat_threshold=None, max_cat_to_onehot=None,\n",
       "                max_delta_step=None, max_depth=3, max_leaves=None,\n",
       "                min_child_weight=None, missing=nan, monotone_constraints=None,\n",
       "                n_estimators=50, n_jobs=None, num_parallel_tree=None,\n",
       "                predictor=None, random_state=42, ...),\n",
       "  'model__learning_rate': 0.25,\n",
       "  'model__max_depth': 3,\n",
       "  'model__n_estimators': 50},\n",
       " 0.6287165258981868)"
      ]
     },
     "execution_count": 72,
     "metadata": {},
     "output_type": "execute_result"
    }
   ],
   "source": [
    "grid.best_params_, grid.best_score_"
   ]
  },
  {
   "cell_type": "markdown",
   "id": "9a82063c-c3bd-483c-8283-d3f9f0dc2f86",
   "metadata": {},
   "source": [
    "Dari hasil tuning didapatkan bahwa model terbaik itu didapatkan bahwa model **XGBoost** memiliki performa paling baik diantara yang lain dengan menggunakan parameter learning rate :0.25, max_depth 3, dan n_estimator: 50."
   ]
  },
  {
   "cell_type": "code",
   "execution_count": 64,
   "id": "3a9af196-1c89-4103-88e6-0d58d272879c",
   "metadata": {},
   "outputs": [
    {
     "name": "stdout",
     "output_type": "stream",
     "text": [
      "              precision    recall  f1-score   support\n",
      "\n",
      "           0       0.91      0.76      0.83      1084\n",
      "           1       0.54      0.79      0.64       395\n",
      "\n",
      "    accuracy                           0.77      1479\n",
      "   macro avg       0.73      0.77      0.74      1479\n",
      "weighted avg       0.81      0.77      0.78      1479\n",
      "\n"
     ]
    }
   ],
   "source": [
    "# Before Tuning\n",
    "xgb = XGBClassifier(learning_rate=0.1,random_state=42,max_depth=3)\n",
    "estimator=Pipeline([\n",
    "    ('processing',transformer),\n",
    "    ('scaler',scaler),\n",
    "    ('sampling',resample),\n",
    "    ('model',xgb)\n",
    "])\n",
    "estimator.fit(x_train,y_train)\n",
    "y_pred_before=estimator.predict(x_test)\n",
    "print(classification_report(y_test,y_pred_before))"
   ]
  },
  {
   "cell_type": "code",
   "execution_count": 68,
   "id": "c9ef9eb1-8116-496d-abf1-a774cf4bc08f",
   "metadata": {
    "tags": []
   },
   "outputs": [
    {
     "name": "stdout",
     "output_type": "stream",
     "text": [
      "              precision    recall  f1-score   support\n",
      "\n",
      "           0       0.91      0.77      0.83      1084\n",
      "           1       0.55      0.78      0.65       395\n",
      "\n",
      "    accuracy                           0.77      1479\n",
      "   macro avg       0.73      0.78      0.74      1479\n",
      "weighted avg       0.81      0.77      0.78      1479\n",
      "\n"
     ]
    }
   ],
   "source": [
    "# After Tuning\n",
    "best_model=grid.best_estimator_\n",
    "best_model.fit(x_train,y_train)\n",
    "y_pred_after=best_model.predict(x_test)\n",
    "print(classification_report(y_test,y_pred_after))"
   ]
  },
  {
   "cell_type": "markdown",
   "id": "eabd8273-7505-49ed-8be1-70de54537fde",
   "metadata": {},
   "source": [
    "Hasil tersebut menunjukan bahwa setelah dilakukan tuning nilai **f1-score** model lebih baik dari model sebelum dilakukan tuning atau meningkat sebesar 1%. "
   ]
  },
  {
   "cell_type": "code",
   "execution_count": 56,
   "id": "21a5fe6d-dbb4-48b1-912e-15655f5167e8",
   "metadata": {},
   "outputs": [
    {
     "data": {
      "text/plain": [
       "<sklearn.metrics._plot.confusion_matrix.ConfusionMatrixDisplay at 0x1a1100be1c0>"
      ]
     },
     "execution_count": 56,
     "metadata": {},
     "output_type": "execute_result"
    },
    {
     "data": {
      "image/png": "[encoded data removed]",
      "text/plain": [
       "<Figure size 432x288 with 2 Axes>"
      ]
     },
     "metadata": {
      "needs_background": "light"
     },
     "output_type": "display_data"
    }
   ],
   "source": [
    "plot_confusion_matrix(best_model, x_test, y_test, display_labels=['Not Churn', 'Churn'])"
   ]
  },
  {
   "cell_type": "markdown",
   "id": "bde69de0-752f-4ba3-bd65-db145e9641fb",
   "metadata": {},
   "source": [
    "setelah tuning model XGBoost hasil dari modelnya yaitu sebesar 55% precision dan 78% recall hal ini sejalan dengan metrik evaluasi diawal bahwa kita menginginkan recall yang tinggi dan tetap mempertahankan nilai precision."
   ]
  },
  {
   "cell_type": "code",
   "execution_count": 57,
   "id": "73dd5986-c614-40e9-8d86-0ec3e0ff398e",
   "metadata": {},
   "outputs": [],
   "source": [
    "features=list(best_model[0].transformers_[0][1].get_feature_names_out())+(best_model[0].transformers_[1][1].get_feature_names())+list(x.columns[best_model[0].transformers_[2][2]])"
   ]
  },
  {
   "cell_type": "code",
   "execution_count": 106,
   "id": "0939aadb-fd3d-487e-8a38-e82c36be7c5f",
   "metadata": {},
   "outputs": [
    {
     "data": {
      "text/plain": [
       "('remainder', 'passthrough', [1, 9])"
      ]
     },
     "execution_count": 106,
     "metadata": {},
     "output_type": "execute_result"
    }
   ],
   "source": [
    "best_model[0].transformers_[2]"
   ]
  },
  {
   "cell_type": "code",
   "execution_count": 96,
   "id": "d922fee5-ff15-46b1-9499-31b7bd36a744",
   "metadata": {},
   "outputs": [
    {
     "data": {
      "text/html": [
       "<style>#sk-container-id-4 {color: black;background-color: white;}#sk-container-id-4 pre{padding: 0;}#sk-container-id-4 div.sk-toggleable {background-color: white;}#sk-container-id-4 label.sk-toggleable__label {cursor: pointer;display: block;width: 100%;margin-bottom: 0;padding: 0.3em;box-sizing: border-box;text-align: center;}#sk-container-id-4 label.sk-toggleable__label-arrow:before {content: \"▸\";float: left;margin-right: 0.25em;color: #696969;}#sk-container-id-4 label.sk-toggleable__label-arrow:hover:before {color: black;}#sk-container-id-4 div.sk-estimator:hover label.sk-toggleable__label-arrow:before {color: black;}#sk-container-id-4 div.sk-toggleable__content {max-height: 0;max-width: 0;overflow: hidden;text-align: left;background-color: #f0f8ff;}#sk-container-id-4 div.sk-toggleable__content pre {margin: 0.2em;color: black;border-radius: 0.25em;background-color: #f0f8ff;}#sk-container-id-4 input.sk-toggleable__control:checked~div.sk-toggleable__content {max-height: 200px;max-width: 100%;overflow: auto;}#sk-container-id-4 input.sk-toggleable__control:checked~label.sk-toggleable__label-arrow:before {content: \"▾\";}#sk-container-id-4 div.sk-estimator input.sk-toggleable__control:checked~label.sk-toggleable__label {background-color: #d4ebff;}#sk-container-id-4 div.sk-label input.sk-toggleable__control:checked~label.sk-toggleable__label {background-color: #d4ebff;}#sk-container-id-4 input.sk-hidden--visually {border: 0;clip: rect(1px 1px 1px 1px);clip: rect(1px, 1px, 1px, 1px);height: 1px;margin: -1px;overflow: hidden;padding: 0;position: absolute;width: 1px;}#sk-container-id-4 div.sk-estimator {font-family: monospace;background-color: #f0f8ff;border: 1px dotted black;border-radius: 0.25em;box-sizing: border-box;margin-bottom: 0.5em;}#sk-container-id-4 div.sk-estimator:hover {background-color: #d4ebff;}#sk-container-id-4 div.sk-parallel-item::after {content: \"\";width: 100%;border-bottom: 1px solid gray;flex-grow: 1;}#sk-container-id-4 div.sk-label:hover label.sk-toggleable__label {background-color: #d4ebff;}#sk-container-id-4 div.sk-serial::before {content: \"\";position: absolute;border-left: 1px solid gray;box-sizing: border-box;top: 0;bottom: 0;left: 50%;z-index: 0;}#sk-container-id-4 div.sk-serial {display: flex;flex-direction: column;align-items: center;background-color: white;padding-right: 0.2em;padding-left: 0.2em;position: relative;}#sk-container-id-4 div.sk-item {position: relative;z-index: 1;}#sk-container-id-4 div.sk-parallel {display: flex;align-items: stretch;justify-content: center;background-color: white;position: relative;}#sk-container-id-4 div.sk-item::before, #sk-container-id-4 div.sk-parallel-item::before {content: \"\";position: absolute;border-left: 1px solid gray;box-sizing: border-box;top: 0;bottom: 0;left: 50%;z-index: -1;}#sk-container-id-4 div.sk-parallel-item {display: flex;flex-direction: column;z-index: 1;position: relative;background-color: white;}#sk-container-id-4 div.sk-parallel-item:first-child::after {align-self: flex-end;width: 50%;}#sk-container-id-4 div.sk-parallel-item:last-child::after {align-self: flex-start;width: 50%;}#sk-container-id-4 div.sk-parallel-item:only-child::after {width: 0;}#sk-container-id-4 div.sk-dashed-wrapped {border: 1px dashed gray;margin: 0 0.4em 0.5em 0.4em;box-sizing: border-box;padding-bottom: 0.4em;background-color: white;}#sk-container-id-4 div.sk-label label {font-family: monospace;font-weight: bold;display: inline-block;line-height: 1.2em;}#sk-container-id-4 div.sk-label-container {text-align: center;}#sk-container-id-4 div.sk-container {/* jupyter's `normalize.less` sets `[hidden] { display: none; }` but bootstrap.min.css set `[hidden] { display: none !important; }` so we also need the `!important` here to be able to override the default hidden behavior on the sphinx rendered scikit-learn.org. See: https://github.com/scikit-learn/scikit-learn/issues/21755 */display: inline-block !important;position: relative;}#sk-container-id-4 div.sk-text-repr-fallback {display: none;}</style><div id=\"sk-container-id-4\" class=\"sk-top-container\"><div class=\"sk-text-repr-fallback\"><pre>Pipeline(steps=[(&#x27;processing&#x27;,\n",
       "                 ColumnTransformer(remainder=&#x27;passthrough&#x27;,\n",
       "                                   transformers=[(&#x27;one hot&#x27;,\n",
       "                                                  OneHotEncoder(drop=&#x27;first&#x27;),\n",
       "                                                  [&#x27;Dependents&#x27;,\n",
       "                                                   &#x27;OnlineSecurity&#x27;,\n",
       "                                                   &#x27;OnlineBackup&#x27;,\n",
       "                                                   &#x27;InternetService&#x27;,\n",
       "                                                   &#x27;DeviceProtection&#x27;,\n",
       "                                                   &#x27;TechSupport&#x27;,\n",
       "                                                   &#x27;PaperlessBilling&#x27;]),\n",
       "                                                 (&#x27;ordinal&#x27;,\n",
       "                                                  OrdinalEncoder(mapping=[{&#x27;col&#x27;: &#x27;Contract&#x27;,\n",
       "                                                                           &#x27;mapping&#x27;: {&#x27;Month-to-month&#x27;: 3,\n",
       "                                                                                       &#x27;One year&#x27;: 2,\n",
       "                                                                                       &#x27;Two year&#x27;: 1}}...\n",
       "                               feature_types=None, gamma=0, gpu_id=-1,\n",
       "                               grow_policy=&#x27;depthwise&#x27;, importance_type=None,\n",
       "                               interaction_constraints=&#x27;&#x27;, learning_rate=0.25,\n",
       "                               max_bin=256, max_cat_threshold=64,\n",
       "                               max_cat_to_onehot=4, max_delta_step=0,\n",
       "                               max_depth=3, max_leaves=0, min_child_weight=1,\n",
       "                               missing=nan, monotone_constraints=&#x27;()&#x27;,\n",
       "                               n_estimators=50, n_jobs=0, num_parallel_tree=1,\n",
       "                               predictor=&#x27;auto&#x27;, random_state=42, ...))])</pre><b>In a Jupyter environment, please rerun this cell to show the HTML representation or trust the notebook. <br />On GitHub, the HTML representation is unable to render, please try loading this page with nbviewer.org.</b></div><div class=\"sk-container\" hidden><div class=\"sk-item sk-dashed-wrapped\"><div class=\"sk-label-container\"><div class=\"sk-label sk-toggleable\"><input class=\"sk-toggleable__control sk-hidden--visually\" id=\"sk-estimator-id-35\" type=\"checkbox\" ><label for=\"sk-estimator-id-35\" class=\"sk-toggleable__label sk-toggleable__label-arrow\">Pipeline</label><div class=\"sk-toggleable__content\"><pre>Pipeline(steps=[(&#x27;processing&#x27;,\n",
       "                 ColumnTransformer(remainder=&#x27;passthrough&#x27;,\n",
       "                                   transformers=[(&#x27;one hot&#x27;,\n",
       "                                                  OneHotEncoder(drop=&#x27;first&#x27;),\n",
       "                                                  [&#x27;Dependents&#x27;,\n",
       "                                                   &#x27;OnlineSecurity&#x27;,\n",
       "                                                   &#x27;OnlineBackup&#x27;,\n",
       "                                                   &#x27;InternetService&#x27;,\n",
       "                                                   &#x27;DeviceProtection&#x27;,\n",
       "                                                   &#x27;TechSupport&#x27;,\n",
       "                                                   &#x27;PaperlessBilling&#x27;]),\n",
       "                                                 (&#x27;ordinal&#x27;,\n",
       "                                                  OrdinalEncoder(mapping=[{&#x27;col&#x27;: &#x27;Contract&#x27;,\n",
       "                                                                           &#x27;mapping&#x27;: {&#x27;Month-to-month&#x27;: 3,\n",
       "                                                                                       &#x27;One year&#x27;: 2,\n",
       "                                                                                       &#x27;Two year&#x27;: 1}}...\n",
       "                               feature_types=None, gamma=0, gpu_id=-1,\n",
       "                               grow_policy=&#x27;depthwise&#x27;, importance_type=None,\n",
       "                               interaction_constraints=&#x27;&#x27;, learning_rate=0.25,\n",
       "                               max_bin=256, max_cat_threshold=64,\n",
       "                               max_cat_to_onehot=4, max_delta_step=0,\n",
       "                               max_depth=3, max_leaves=0, min_child_weight=1,\n",
       "                               missing=nan, monotone_constraints=&#x27;()&#x27;,\n",
       "                               n_estimators=50, n_jobs=0, num_parallel_tree=1,\n",
       "                               predictor=&#x27;auto&#x27;, random_state=42, ...))])</pre></div></div></div><div class=\"sk-serial\"><div class=\"sk-item sk-dashed-wrapped\"><div class=\"sk-label-container\"><div class=\"sk-label sk-toggleable\"><input class=\"sk-toggleable__control sk-hidden--visually\" id=\"sk-estimator-id-36\" type=\"checkbox\" ><label for=\"sk-estimator-id-36\" class=\"sk-toggleable__label sk-toggleable__label-arrow\">processing: ColumnTransformer</label><div class=\"sk-toggleable__content\"><pre>ColumnTransformer(remainder=&#x27;passthrough&#x27;,\n",
       "                  transformers=[(&#x27;one hot&#x27;, OneHotEncoder(drop=&#x27;first&#x27;),\n",
       "                                 [&#x27;Dependents&#x27;, &#x27;OnlineSecurity&#x27;,\n",
       "                                  &#x27;OnlineBackup&#x27;, &#x27;InternetService&#x27;,\n",
       "                                  &#x27;DeviceProtection&#x27;, &#x27;TechSupport&#x27;,\n",
       "                                  &#x27;PaperlessBilling&#x27;]),\n",
       "                                (&#x27;ordinal&#x27;,\n",
       "                                 OrdinalEncoder(mapping=[{&#x27;col&#x27;: &#x27;Contract&#x27;,\n",
       "                                                          &#x27;mapping&#x27;: {&#x27;Month-to-month&#x27;: 3,\n",
       "                                                                      &#x27;One year&#x27;: 2,\n",
       "                                                                      &#x27;Two year&#x27;: 1}}]),\n",
       "                                 [&#x27;Contract&#x27;])])</pre></div></div></div><div class=\"sk-parallel\"><div class=\"sk-parallel-item\"><div class=\"sk-item\"><div class=\"sk-label-container\"><div class=\"sk-label sk-toggleable\"><input class=\"sk-toggleable__control sk-hidden--visually\" id=\"sk-estimator-id-37\" type=\"checkbox\" ><label for=\"sk-estimator-id-37\" class=\"sk-toggleable__label sk-toggleable__label-arrow\">one hot</label><div class=\"sk-toggleable__content\"><pre>[&#x27;Dependents&#x27;, &#x27;OnlineSecurity&#x27;, &#x27;OnlineBackup&#x27;, &#x27;InternetService&#x27;, &#x27;DeviceProtection&#x27;, &#x27;TechSupport&#x27;, &#x27;PaperlessBilling&#x27;]</pre></div></div></div><div class=\"sk-serial\"><div class=\"sk-item\"><div class=\"sk-estimator sk-toggleable\"><input class=\"sk-toggleable__control sk-hidden--visually\" id=\"sk-estimator-id-38\" type=\"checkbox\" ><label for=\"sk-estimator-id-38\" class=\"sk-toggleable__label sk-toggleable__label-arrow\">OneHotEncoder</label><div class=\"sk-toggleable__content\"><pre>OneHotEncoder(drop=&#x27;first&#x27;)</pre></div></div></div></div></div></div><div class=\"sk-parallel-item\"><div class=\"sk-item\"><div class=\"sk-label-container\"><div class=\"sk-label sk-toggleable\"><input class=\"sk-toggleable__control sk-hidden--visually\" id=\"sk-estimator-id-39\" type=\"checkbox\" ><label for=\"sk-estimator-id-39\" class=\"sk-toggleable__label sk-toggleable__label-arrow\">ordinal</label><div class=\"sk-toggleable__content\"><pre>[&#x27;Contract&#x27;]</pre></div></div></div><div class=\"sk-serial\"><div class=\"sk-item\"><div class=\"sk-estimator sk-toggleable\"><input class=\"sk-toggleable__control sk-hidden--visually\" id=\"sk-estimator-id-40\" type=\"checkbox\" ><label for=\"sk-estimator-id-40\" class=\"sk-toggleable__label sk-toggleable__label-arrow\">OrdinalEncoder</label><div class=\"sk-toggleable__content\"><pre>OrdinalEncoder(mapping=[{&#x27;col&#x27;: &#x27;Contract&#x27;,\n",
       "                         &#x27;mapping&#x27;: {&#x27;Month-to-month&#x27;: 3, &#x27;One year&#x27;: 2,\n",
       "                                     &#x27;Two year&#x27;: 1}}])</pre></div></div></div></div></div></div><div class=\"sk-parallel-item\"><div class=\"sk-item\"><div class=\"sk-label-container\"><div class=\"sk-label sk-toggleable\"><input class=\"sk-toggleable__control sk-hidden--visually\" id=\"sk-estimator-id-41\" type=\"checkbox\" ><label for=\"sk-estimator-id-41\" class=\"sk-toggleable__label sk-toggleable__label-arrow\">remainder</label><div class=\"sk-toggleable__content\"><pre>[&#x27;tenure&#x27;, &#x27;MonthlyCharges&#x27;]</pre></div></div></div><div class=\"sk-serial\"><div class=\"sk-item\"><div class=\"sk-estimator sk-toggleable\"><input class=\"sk-toggleable__control sk-hidden--visually\" id=\"sk-estimator-id-42\" type=\"checkbox\" ><label for=\"sk-estimator-id-42\" class=\"sk-toggleable__label sk-toggleable__label-arrow\">passthrough</label><div class=\"sk-toggleable__content\"><pre>passthrough</pre></div></div></div></div></div></div></div></div><div class=\"sk-item\"><div class=\"sk-estimator sk-toggleable\"><input class=\"sk-toggleable__control sk-hidden--visually\" id=\"sk-estimator-id-43\" type=\"checkbox\" ><label for=\"sk-estimator-id-43\" class=\"sk-toggleable__label sk-toggleable__label-arrow\">MinMaxScaler</label><div class=\"sk-toggleable__content\"><pre>MinMaxScaler()</pre></div></div></div><div class=\"sk-item\"><div class=\"sk-estimator sk-toggleable\"><input class=\"sk-toggleable__control sk-hidden--visually\" id=\"sk-estimator-id-44\" type=\"checkbox\" ><label for=\"sk-estimator-id-44\" class=\"sk-toggleable__label sk-toggleable__label-arrow\">SMOTE</label><div class=\"sk-toggleable__content\"><pre>SMOTE()</pre></div></div></div><div class=\"sk-item\"><div class=\"sk-estimator sk-toggleable\"><input class=\"sk-toggleable__control sk-hidden--visually\" id=\"sk-estimator-id-45\" type=\"checkbox\" ><label for=\"sk-estimator-id-45\" class=\"sk-toggleable__label sk-toggleable__label-arrow\">XGBClassifier</label><div class=\"sk-toggleable__content\"><pre>XGBClassifier(base_score=0.5, booster=&#x27;gbtree&#x27;, callbacks=None,\n",
       "              colsample_bylevel=1, colsample_bynode=1, colsample_bytree=1,\n",
       "              early_stopping_rounds=None, enable_categorical=False,\n",
       "              eval_metric=None, feature_types=None, gamma=0, gpu_id=-1,\n",
       "              grow_policy=&#x27;depthwise&#x27;, importance_type=None,\n",
       "              interaction_constraints=&#x27;&#x27;, learning_rate=0.25, max_bin=256,\n",
       "              max_cat_threshold=64, max_cat_to_onehot=4, max_delta_step=0,\n",
       "              max_depth=3, max_leaves=0, min_child_weight=1, missing=nan,\n",
       "              monotone_constraints=&#x27;()&#x27;, n_estimators=50, n_jobs=0,\n",
       "              num_parallel_tree=1, predictor=&#x27;auto&#x27;, random_state=42, ...)</pre></div></div></div></div></div></div></div>"
      ],
      "text/plain": [
       "Pipeline(steps=[('processing',\n",
       "                 ColumnTransformer(remainder='passthrough',\n",
       "                                   transformers=[('one hot',\n",
       "                                                  OneHotEncoder(drop='first'),\n",
       "                                                  ['Dependents',\n",
       "                                                   'OnlineSecurity',\n",
       "                                                   'OnlineBackup',\n",
       "                                                   'InternetService',\n",
       "                                                   'DeviceProtection',\n",
       "                                                   'TechSupport',\n",
       "                                                   'PaperlessBilling']),\n",
       "                                                 ('ordinal',\n",
       "                                                  OrdinalEncoder(mapping=[{'col': 'Contract',\n",
       "                                                                           'mapping': {'Month-to-month': 3,\n",
       "                                                                                       'One year': 2,\n",
       "                                                                                       'Two year': 1}}...\n",
       "                               feature_types=None, gamma=0, gpu_id=-1,\n",
       "                               grow_policy='depthwise', importance_type=None,\n",
       "                               interaction_constraints='', learning_rate=0.25,\n",
       "                               max_bin=256, max_cat_threshold=64,\n",
       "                               max_cat_to_onehot=4, max_delta_step=0,\n",
       "                               max_depth=3, max_leaves=0, min_child_weight=1,\n",
       "                               missing=nan, monotone_constraints='()',\n",
       "                               n_estimators=50, n_jobs=0, num_parallel_tree=1,\n",
       "                               predictor='auto', random_state=42, ...))])"
      ]
     },
     "execution_count": 96,
     "metadata": {},
     "output_type": "execute_result"
    }
   ],
   "source": [
    "best_model"
   ]
  },
  {
   "cell_type": "code",
   "execution_count": 81,
   "id": "ff61f3d4-e669-4c33-8467-6ba17f4e43fa",
   "metadata": {},
   "outputs": [
    {
     "data": {
      "text/html": [
       "<div>\n",
       "<style scoped>\n",
       "    .dataframe tbody tr th:only-of-type {\n",
       "        vertical-align: middle;\n",
       "    }\n",
       "\n",
       "    .dataframe tbody tr th {\n",
       "        vertical-align: top;\n",
       "    }\n",
       "\n",
       "    .dataframe thead th {\n",
       "        text-align: right;\n",
       "    }\n",
       "</style>\n",
       "<table border=\"1\" class=\"dataframe\">\n",
       "  <thead>\n",
       "    <tr style=\"text-align: right;\">\n",
       "      <th></th>\n",
       "      <th>important</th>\n",
       "    </tr>\n",
       "  </thead>\n",
       "  <tbody>\n",
       "    <tr>\n",
       "      <th>Contract</th>\n",
       "      <td>0.326560</td>\n",
       "    </tr>\n",
       "    <tr>\n",
       "      <th>InternetService_Fiber optic</th>\n",
       "      <td>0.232101</td>\n",
       "    </tr>\n",
       "    <tr>\n",
       "      <th>InternetService_No</th>\n",
       "      <td>0.193637</td>\n",
       "    </tr>\n",
       "  </tbody>\n",
       "</table>\n",
       "</div>"
      ],
      "text/plain": [
       "                             important\n",
       "Contract                      0.326560\n",
       "InternetService_Fiber optic   0.232101\n",
       "InternetService_No            0.193637"
      ]
     },
     "execution_count": 81,
     "metadata": {},
     "output_type": "execute_result"
    }
   ],
   "source": [
    "pd.DataFrame({'important':best_model[3].feature_importances_},index=features).sort_values('important',ascending=False).head(3)"
   ]
  },
  {
   "cell_type": "code",
   "execution_count": 92,
   "id": "bdb3865b-2697-4450-a819-29644bceda90",
   "metadata": {},
   "outputs": [
    {
     "data": {
      "image/png": "[encoded data removed]",
      "text/plain": [
       "<Figure size 720x720 with 1 Axes>"
      ]
     },
     "metadata": {
      "needs_background": "light"
     },
     "output_type": "display_data"
    }
   ],
   "source": [
    "# Visualizatin\n",
    "pd.DataFrame({'important':best_model[3].feature_importances_},index=features).sort_values('important',ascending=True).plot(kind='barh',figsize=(10,10))\n",
    "plt.show()"
   ]
  },
  {
   "cell_type": "markdown",
   "id": "99f2e291-5f46-4620-95f4-cf02af4a9e7a",
   "metadata": {},
   "source": [
    "Terlihat bahwa pada model XBoost kita bahwa feature paling penting adalah feature Contract, Internet Service dan Internet Fiber Optic. dan yang lainnya cenderung tidak begitu penting."
   ]
  },
  {
   "cell_type": "markdown",
   "id": "c59b05fe-57ee-4745-b87a-2fcc13210a45",
   "metadata": {},
   "source": [
    "# Model & Cost Evaluation"
   ]
  },
  {
   "cell_type": "markdown",
   "id": "8b82bb7b-9ed5-496e-bf7f-13e84c7610eb",
   "metadata": {},
   "source": [
    "Evaluasi terhadap biaya yang akan dikeluarkan jika kita menggunakan model **XGBoost** yang sudah kita buat seperti yang sudah di sebutkan pada bagian **Problem Statement** bahwa untuk mendapatkan pelanggan baru memerlukan biaya **5 kali lebih besar** dibandingkan kita mempertahankan pelanggan kita( [sumber](https://www.woopra.com/blog/churn-rate-vs-retention-rate#:~:text=Customer%20churn%20rate%20is%20the,up%20and%20stay%20with%20you.)). Sehingga dapat kita analisa sebegai berikut:\n",
    "\n",
    "1. Pelanggan yang *True Negative* memerlukan biaya **0**.\n",
    "2. Pelanggan yang *False negative* memerlukan biaya yang lebih banyak yaitu harus mengeluarkan biaya yang besar yaitu untuk iklan dan lain lain. Perlu mengeluarkan biaya sebesar **5** * biaya.\n",
    "3. Pelanggan yang teridentifikasi churn ( *True Positive dan False Positif* ) kita akan mengeluarkan **1 * biaya untuk memberikan biaya retensi** misalnya berupa voucher diskon untuk mempertahankan pelanggan ini \n",
    "\n",
    "\n",
    "Hasil :\n",
    "1. Kondisi Paling Buruk <br>\n",
    "Perusahaan tidak menggunakan model untuk memprediksi pelanggan yang akan Churn. padahal terdapat 395 pelanggan yang akan churn sehingga memerlukan biaya 5 * 395 pelanggan = 1975 (p)\n",
    "\n",
    "2. Fokus pemberian kupon pada setiap pelanggan <br>\n",
    "Memberikan kupon diskon kepada setiap pelanggan yaitu sebesar 1 * 1479 pelanggan = **1479 (p)**\n",
    "\n",
    "3. Kondisi Paling Baik<br>\n",
    "Perusahaan mempunyai prediksi pelanggan yang akan Churn dan akan diberikan kupon diskon dengan biaya : 1* 395 = **395(p)**\n",
    "\n",
    "4. Menggunakan Model yang sekarang <br>\n",
    "Menggunakan model XGBoost akan mengeluarkan biaya sebesar :\n",
    "(5 * 87 pelanggan) + (1* 557) = **992 (p)**\n"
   ]
  },
  {
   "cell_type": "markdown",
   "id": "65b092a8-ac04-41e2-84e1-e1ebcbd698a1",
   "metadata": {},
   "source": [
    "Dilakukan Plot untuk melihat bagaimana perkiraan biaya yang akan dikeluarkan :\n"
   ]
  },
  {
   "cell_type": "code",
   "execution_count": 90,
   "id": "4faf5267-0c6b-495e-bcb9-f646a03fd0e4",
   "metadata": {},
   "outputs": [],
   "source": [
    "data = pd.DataFrame(data={'no model' :[1975], 'diskon kepada semua pelanggan':[1479], 'kondisi paling ideal': [395], 'model': [992]}, index=['Perkiraan Biaya'])\n",
    "biaya= data.T.sort_values('Perkiraan Biaya',ascending=False)"
   ]
  },
  {
   "cell_type": "code",
   "execution_count": 91,
   "id": "952a9ab9-6656-4392-831f-8a56947ba2fd",
   "metadata": {},
   "outputs": [
    {
     "data": {
      "image/png": "[encoded data removed]",
      "text/plain": [
       "<Figure size 720x720 with 1 Axes>"
      ]
     },
     "metadata": {
      "needs_background": "light"
     },
     "output_type": "display_data"
    }
   ],
   "source": [
    "plt.figure(figsize=(10,10))\n",
    "ax=sns.barplot(biaya.index,biaya['Perkiraan Biaya'])\n",
    "plt.title('Perbandingan Biaya')\n",
    "plt.xlabel('Kondisi')\n",
    "ax.bar_label(ax.containers[0])\n",
    "plt.show()"
   ]
  },
  {
   "cell_type": "markdown",
   "id": "d9694bb4-b1ce-420a-9a72-16f995d9c91a",
   "metadata": {},
   "source": [
    "* Berdasarkan hasil plotting diatas dapat kita simpulkan bahwa kita dapat menekan biaya pengeluaran perusahaan dengan menggunakan model yang sudah kita buat dengan rincian sebagai berikut:\n",
    "    1. Menghemat biaya sebesar **50 %** dari skenario kondisi terburuk perusahaan.\n",
    "    2. Mengehemat biaya sebesar **33 %** dari skenario memberikan voucher diskon kepada setiap pelanggan.\n",
    "\n",
    "Sehingga dengan menggunakan model yang sudah dibuat, perusahaan dapat menghemat 50 % dari total pengeluarannya.\n",
    "    "
   ]
  },
  {
   "cell_type": "markdown",
   "id": "bcf5fcb3-991c-4653-a374-364e71ddcd6b",
   "metadata": {},
   "source": [
    "# Kesimpulan & Rekomendasi "
   ]
  },
  {
   "cell_type": "markdown",
   "id": "77a4a73d-3c06-48c7-93f3-6b9be0495598",
   "metadata": {},
   "source": [
    "**Kesimpulan** :\n",
    "\n",
    "1. Dari analisa yang sudah dilakukan model yang memiliki performa paling maksimal yaitu menggunakan model **XGBoost Classifier** dengan dilakukan hyperparameter tuning.\n",
    "2. Parameter yang paling baik menggunakan parameter : **learning rate : 0.25, max_depth : 3, dan n_estimator: 50.**\n",
    "3. Nilai Recall dan Precision dari kelas positif yaitu masing-masing sebesar **78% dan 55%**\n",
    "4. Fitur paling berpengaruh pada model yaitu **Contract, Internet Service Fiber Optic dan Internet Service No**\n",
    "5. Dengan menggunakan model ini dapat menghemat 50 % total pengeluaran perusahaan dibandingkan dengan perusahan tidak menggunakan model\n",
    "\n",
    "**Rekomendasi** :\n",
    "1. Dapat menggunakan algoritma Machine Learning lain seperti CatBoost, LightLgbm.\n",
    "2. Menambahkan Feature lain seperti Jenis Pembayaran, Paket kecepatan Internet dan lainnya yang berhungan dengan Perusahaan Telco\n",
    "3. Menggunakan sumber lain dalam perhitungan biaya Customer Acquisition dan mempertahankan pelanggan.\n",
    "4. Data yang di analisa tidak seimbang (Imbalance) sehingga dapat menggunakan algoritma statistik lain.\n",
    "5. Berdasarkan analisa Feature Importance, fitur yang paling berpengaruh adalah **Contract, Internet Service Fiber Optic dan Internet Service No** sehingga :\n",
    "\n",
    "        1. pada kontrak pelanggan dapat memberikan hadiah kepada pelanggan yang mau beralih dari Month-to Month yang sifatnya jangka pendek untuk beralih ke kontrak 1 tahun dan 2 tahun yang bersifat jangka panjang\n",
    "        2. memberikan harga yang lebih murah terhadap layanan internet fiber optic karena dengan harga yang tinggi juga dapat menjadi pemicu pelanggan tersebut melakukan churn.\n",
    "        3. memperluas layanan internet perusahaan sehingga dapat menggunakan jasa internet perusahaan.\n"
   ]
  },
  {
   "cell_type": "code",
   "execution_count": 60,
   "id": "419eec21-711f-43c0-90c2-aac2da1fc88e",
   "metadata": {},
   "outputs": [],
   "source": [
    "import pickle"
   ]
  },
  {
   "cell_type": "code",
   "execution_count": 61,
   "id": "f1abbbef-1133-418c-8987-9d56193ef986",
   "metadata": {},
   "outputs": [
    {
     "data": {
      "text/html": [
       "<style>#sk-container-id-3 {color: black;background-color: white;}#sk-container-id-3 pre{padding: 0;}#sk-container-id-3 div.sk-toggleable {background-color: white;}#sk-container-id-3 label.sk-toggleable__label {cursor: pointer;display: block;width: 100%;margin-bottom: 0;padding: 0.3em;box-sizing: border-box;text-align: center;}#sk-container-id-3 label.sk-toggleable__label-arrow:before {content: \"▸\";float: left;margin-right: 0.25em;color: #696969;}#sk-container-id-3 label.sk-toggleable__label-arrow:hover:before {color: black;}#sk-container-id-3 div.sk-estimator:hover label.sk-toggleable__label-arrow:before {color: black;}#sk-container-id-3 div.sk-toggleable__content {max-height: 0;max-width: 0;overflow: hidden;text-align: left;background-color: #f0f8ff;}#sk-container-id-3 div.sk-toggleable__content pre {margin: 0.2em;color: black;border-radius: 0.25em;background-color: #f0f8ff;}#sk-container-id-3 input.sk-toggleable__control:checked~div.sk-toggleable__content {max-height: 200px;max-width: 100%;overflow: auto;}#sk-container-id-3 input.sk-toggleable__control:checked~label.sk-toggleable__label-arrow:before {content: \"▾\";}#sk-container-id-3 div.sk-estimator input.sk-toggleable__control:checked~label.sk-toggleable__label {background-color: #d4ebff;}#sk-container-id-3 div.sk-label input.sk-toggleable__control:checked~label.sk-toggleable__label {background-color: #d4ebff;}#sk-container-id-3 input.sk-hidden--visually {border: 0;clip: rect(1px 1px 1px 1px);clip: rect(1px, 1px, 1px, 1px);height: 1px;margin: -1px;overflow: hidden;padding: 0;position: absolute;width: 1px;}#sk-container-id-3 div.sk-estimator {font-family: monospace;background-color: #f0f8ff;border: 1px dotted black;border-radius: 0.25em;box-sizing: border-box;margin-bottom: 0.5em;}#sk-container-id-3 div.sk-estimator:hover {background-color: #d4ebff;}#sk-container-id-3 div.sk-parallel-item::after {content: \"\";width: 100%;border-bottom: 1px solid gray;flex-grow: 1;}#sk-container-id-3 div.sk-label:hover label.sk-toggleable__label {background-color: #d4ebff;}#sk-container-id-3 div.sk-serial::before {content: \"\";position: absolute;border-left: 1px solid gray;box-sizing: border-box;top: 0;bottom: 0;left: 50%;z-index: 0;}#sk-container-id-3 div.sk-serial {display: flex;flex-direction: column;align-items: center;background-color: white;padding-right: 0.2em;padding-left: 0.2em;position: relative;}#sk-container-id-3 div.sk-item {position: relative;z-index: 1;}#sk-container-id-3 div.sk-parallel {display: flex;align-items: stretch;justify-content: center;background-color: white;position: relative;}#sk-container-id-3 div.sk-item::before, #sk-container-id-3 div.sk-parallel-item::before {content: \"\";position: absolute;border-left: 1px solid gray;box-sizing: border-box;top: 0;bottom: 0;left: 50%;z-index: -1;}#sk-container-id-3 div.sk-parallel-item {display: flex;flex-direction: column;z-index: 1;position: relative;background-color: white;}#sk-container-id-3 div.sk-parallel-item:first-child::after {align-self: flex-end;width: 50%;}#sk-container-id-3 div.sk-parallel-item:last-child::after {align-self: flex-start;width: 50%;}#sk-container-id-3 div.sk-parallel-item:only-child::after {width: 0;}#sk-container-id-3 div.sk-dashed-wrapped {border: 1px dashed gray;margin: 0 0.4em 0.5em 0.4em;box-sizing: border-box;padding-bottom: 0.4em;background-color: white;}#sk-container-id-3 div.sk-label label {font-family: monospace;font-weight: bold;display: inline-block;line-height: 1.2em;}#sk-container-id-3 div.sk-label-container {text-align: center;}#sk-container-id-3 div.sk-container {/* jupyter's `normalize.less` sets `[hidden] { display: none; }` but bootstrap.min.css set `[hidden] { display: none !important; }` so we also need the `!important` here to be able to override the default hidden behavior on the sphinx rendered scikit-learn.org. See: https://github.com/scikit-learn/scikit-learn/issues/21755 */display: inline-block !important;position: relative;}#sk-container-id-3 div.sk-text-repr-fallback {display: none;}</style><div id=\"sk-container-id-3\" class=\"sk-top-container\"><div class=\"sk-text-repr-fallback\"><pre>Pipeline(steps=[(&#x27;processing&#x27;,\n",
       "                 ColumnTransformer(remainder=&#x27;passthrough&#x27;,\n",
       "                                   transformers=[(&#x27;one hot&#x27;,\n",
       "                                                  OneHotEncoder(drop=&#x27;first&#x27;),\n",
       "                                                  [&#x27;Dependents&#x27;,\n",
       "                                                   &#x27;OnlineSecurity&#x27;,\n",
       "                                                   &#x27;OnlineBackup&#x27;,\n",
       "                                                   &#x27;InternetService&#x27;,\n",
       "                                                   &#x27;DeviceProtection&#x27;,\n",
       "                                                   &#x27;TechSupport&#x27;,\n",
       "                                                   &#x27;PaperlessBilling&#x27;]),\n",
       "                                                 (&#x27;ordinal&#x27;,\n",
       "                                                  OrdinalEncoder(mapping=[{&#x27;col&#x27;: &#x27;Contract&#x27;,\n",
       "                                                                           &#x27;mapping&#x27;: {&#x27;Month-to-month&#x27;: 3,\n",
       "                                                                                       &#x27;One year&#x27;: 2,\n",
       "                                                                                       &#x27;Two year&#x27;: 1}}...\n",
       "                               feature_types=None, gamma=0, gpu_id=-1,\n",
       "                               grow_policy=&#x27;depthwise&#x27;, importance_type=None,\n",
       "                               interaction_constraints=&#x27;&#x27;, learning_rate=0.25,\n",
       "                               max_bin=256, max_cat_threshold=64,\n",
       "                               max_cat_to_onehot=4, max_delta_step=0,\n",
       "                               max_depth=3, max_leaves=0, min_child_weight=1,\n",
       "                               missing=nan, monotone_constraints=&#x27;()&#x27;,\n",
       "                               n_estimators=50, n_jobs=0, num_parallel_tree=1,\n",
       "                               predictor=&#x27;auto&#x27;, random_state=42, ...))])</pre><b>In a Jupyter environment, please rerun this cell to show the HTML representation or trust the notebook. <br />On GitHub, the HTML representation is unable to render, please try loading this page with nbviewer.org.</b></div><div class=\"sk-container\" hidden><div class=\"sk-item sk-dashed-wrapped\"><div class=\"sk-label-container\"><div class=\"sk-label sk-toggleable\"><input class=\"sk-toggleable__control sk-hidden--visually\" id=\"sk-estimator-id-24\" type=\"checkbox\" ><label for=\"sk-estimator-id-24\" class=\"sk-toggleable__label sk-toggleable__label-arrow\">Pipeline</label><div class=\"sk-toggleable__content\"><pre>Pipeline(steps=[(&#x27;processing&#x27;,\n",
       "                 ColumnTransformer(remainder=&#x27;passthrough&#x27;,\n",
       "                                   transformers=[(&#x27;one hot&#x27;,\n",
       "                                                  OneHotEncoder(drop=&#x27;first&#x27;),\n",
       "                                                  [&#x27;Dependents&#x27;,\n",
       "                                                   &#x27;OnlineSecurity&#x27;,\n",
       "                                                   &#x27;OnlineBackup&#x27;,\n",
       "                                                   &#x27;InternetService&#x27;,\n",
       "                                                   &#x27;DeviceProtection&#x27;,\n",
       "                                                   &#x27;TechSupport&#x27;,\n",
       "                                                   &#x27;PaperlessBilling&#x27;]),\n",
       "                                                 (&#x27;ordinal&#x27;,\n",
       "                                                  OrdinalEncoder(mapping=[{&#x27;col&#x27;: &#x27;Contract&#x27;,\n",
       "                                                                           &#x27;mapping&#x27;: {&#x27;Month-to-month&#x27;: 3,\n",
       "                                                                                       &#x27;One year&#x27;: 2,\n",
       "                                                                                       &#x27;Two year&#x27;: 1}}...\n",
       "                               feature_types=None, gamma=0, gpu_id=-1,\n",
       "                               grow_policy=&#x27;depthwise&#x27;, importance_type=None,\n",
       "                               interaction_constraints=&#x27;&#x27;, learning_rate=0.25,\n",
       "                               max_bin=256, max_cat_threshold=64,\n",
       "                               max_cat_to_onehot=4, max_delta_step=0,\n",
       "                               max_depth=3, max_leaves=0, min_child_weight=1,\n",
       "                               missing=nan, monotone_constraints=&#x27;()&#x27;,\n",
       "                               n_estimators=50, n_jobs=0, num_parallel_tree=1,\n",
       "                               predictor=&#x27;auto&#x27;, random_state=42, ...))])</pre></div></div></div><div class=\"sk-serial\"><div class=\"sk-item sk-dashed-wrapped\"><div class=\"sk-label-container\"><div class=\"sk-label sk-toggleable\"><input class=\"sk-toggleable__control sk-hidden--visually\" id=\"sk-estimator-id-25\" type=\"checkbox\" ><label for=\"sk-estimator-id-25\" class=\"sk-toggleable__label sk-toggleable__label-arrow\">processing: ColumnTransformer</label><div class=\"sk-toggleable__content\"><pre>ColumnTransformer(remainder=&#x27;passthrough&#x27;,\n",
       "                  transformers=[(&#x27;one hot&#x27;, OneHotEncoder(drop=&#x27;first&#x27;),\n",
       "                                 [&#x27;Dependents&#x27;, &#x27;OnlineSecurity&#x27;,\n",
       "                                  &#x27;OnlineBackup&#x27;, &#x27;InternetService&#x27;,\n",
       "                                  &#x27;DeviceProtection&#x27;, &#x27;TechSupport&#x27;,\n",
       "                                  &#x27;PaperlessBilling&#x27;]),\n",
       "                                (&#x27;ordinal&#x27;,\n",
       "                                 OrdinalEncoder(mapping=[{&#x27;col&#x27;: &#x27;Contract&#x27;,\n",
       "                                                          &#x27;mapping&#x27;: {&#x27;Month-to-month&#x27;: 3,\n",
       "                                                                      &#x27;One year&#x27;: 2,\n",
       "                                                                      &#x27;Two year&#x27;: 1}}]),\n",
       "                                 [&#x27;Contract&#x27;])])</pre></div></div></div><div class=\"sk-parallel\"><div class=\"sk-parallel-item\"><div class=\"sk-item\"><div class=\"sk-label-container\"><div class=\"sk-label sk-toggleable\"><input class=\"sk-toggleable__control sk-hidden--visually\" id=\"sk-estimator-id-26\" type=\"checkbox\" ><label for=\"sk-estimator-id-26\" class=\"sk-toggleable__label sk-toggleable__label-arrow\">one hot</label><div class=\"sk-toggleable__content\"><pre>[&#x27;Dependents&#x27;, &#x27;OnlineSecurity&#x27;, &#x27;OnlineBackup&#x27;, &#x27;InternetService&#x27;, &#x27;DeviceProtection&#x27;, &#x27;TechSupport&#x27;, &#x27;PaperlessBilling&#x27;]</pre></div></div></div><div class=\"sk-serial\"><div class=\"sk-item\"><div class=\"sk-estimator sk-toggleable\"><input class=\"sk-toggleable__control sk-hidden--visually\" id=\"sk-estimator-id-27\" type=\"checkbox\" ><label for=\"sk-estimator-id-27\" class=\"sk-toggleable__label sk-toggleable__label-arrow\">OneHotEncoder</label><div class=\"sk-toggleable__content\"><pre>OneHotEncoder(drop=&#x27;first&#x27;)</pre></div></div></div></div></div></div><div class=\"sk-parallel-item\"><div class=\"sk-item\"><div class=\"sk-label-container\"><div class=\"sk-label sk-toggleable\"><input class=\"sk-toggleable__control sk-hidden--visually\" id=\"sk-estimator-id-28\" type=\"checkbox\" ><label for=\"sk-estimator-id-28\" class=\"sk-toggleable__label sk-toggleable__label-arrow\">ordinal</label><div class=\"sk-toggleable__content\"><pre>[&#x27;Contract&#x27;]</pre></div></div></div><div class=\"sk-serial\"><div class=\"sk-item\"><div class=\"sk-estimator sk-toggleable\"><input class=\"sk-toggleable__control sk-hidden--visually\" id=\"sk-estimator-id-29\" type=\"checkbox\" ><label for=\"sk-estimator-id-29\" class=\"sk-toggleable__label sk-toggleable__label-arrow\">OrdinalEncoder</label><div class=\"sk-toggleable__content\"><pre>OrdinalEncoder(mapping=[{&#x27;col&#x27;: &#x27;Contract&#x27;,\n",
       "                         &#x27;mapping&#x27;: {&#x27;Month-to-month&#x27;: 3, &#x27;One year&#x27;: 2,\n",
       "                                     &#x27;Two year&#x27;: 1}}])</pre></div></div></div></div></div></div><div class=\"sk-parallel-item\"><div class=\"sk-item\"><div class=\"sk-label-container\"><div class=\"sk-label sk-toggleable\"><input class=\"sk-toggleable__control sk-hidden--visually\" id=\"sk-estimator-id-30\" type=\"checkbox\" ><label for=\"sk-estimator-id-30\" class=\"sk-toggleable__label sk-toggleable__label-arrow\">remainder</label><div class=\"sk-toggleable__content\"><pre>[&#x27;tenure&#x27;, &#x27;MonthlyCharges&#x27;]</pre></div></div></div><div class=\"sk-serial\"><div class=\"sk-item\"><div class=\"sk-estimator sk-toggleable\"><input class=\"sk-toggleable__control sk-hidden--visually\" id=\"sk-estimator-id-31\" type=\"checkbox\" ><label for=\"sk-estimator-id-31\" class=\"sk-toggleable__label sk-toggleable__label-arrow\">passthrough</label><div class=\"sk-toggleable__content\"><pre>passthrough</pre></div></div></div></div></div></div></div></div><div class=\"sk-item\"><div class=\"sk-estimator sk-toggleable\"><input class=\"sk-toggleable__control sk-hidden--visually\" id=\"sk-estimator-id-32\" type=\"checkbox\" ><label for=\"sk-estimator-id-32\" class=\"sk-toggleable__label sk-toggleable__label-arrow\">MinMaxScaler</label><div class=\"sk-toggleable__content\"><pre>MinMaxScaler()</pre></div></div></div><div class=\"sk-item\"><div class=\"sk-estimator sk-toggleable\"><input class=\"sk-toggleable__control sk-hidden--visually\" id=\"sk-estimator-id-33\" type=\"checkbox\" ><label for=\"sk-estimator-id-33\" class=\"sk-toggleable__label sk-toggleable__label-arrow\">SMOTE</label><div class=\"sk-toggleable__content\"><pre>SMOTE()</pre></div></div></div><div class=\"sk-item\"><div class=\"sk-estimator sk-toggleable\"><input class=\"sk-toggleable__control sk-hidden--visually\" id=\"sk-estimator-id-34\" type=\"checkbox\" ><label for=\"sk-estimator-id-34\" class=\"sk-toggleable__label sk-toggleable__label-arrow\">XGBClassifier</label><div class=\"sk-toggleable__content\"><pre>XGBClassifier(base_score=0.5, booster=&#x27;gbtree&#x27;, callbacks=None,\n",
       "              colsample_bylevel=1, colsample_bynode=1, colsample_bytree=1,\n",
       "              early_stopping_rounds=None, enable_categorical=False,\n",
       "              eval_metric=None, feature_types=None, gamma=0, gpu_id=-1,\n",
       "              grow_policy=&#x27;depthwise&#x27;, importance_type=None,\n",
       "              interaction_constraints=&#x27;&#x27;, learning_rate=0.25, max_bin=256,\n",
       "              max_cat_threshold=64, max_cat_to_onehot=4, max_delta_step=0,\n",
       "              max_depth=3, max_leaves=0, min_child_weight=1, missing=nan,\n",
       "              monotone_constraints=&#x27;()&#x27;, n_estimators=50, n_jobs=0,\n",
       "              num_parallel_tree=1, predictor=&#x27;auto&#x27;, random_state=42, ...)</pre></div></div></div></div></div></div></div>"
      ],
      "text/plain": [
       "Pipeline(steps=[('processing',\n",
       "                 ColumnTransformer(remainder='passthrough',\n",
       "                                   transformers=[('one hot',\n",
       "                                                  OneHotEncoder(drop='first'),\n",
       "                                                  ['Dependents',\n",
       "                                                   'OnlineSecurity',\n",
       "                                                   'OnlineBackup',\n",
       "                                                   'InternetService',\n",
       "                                                   'DeviceProtection',\n",
       "                                                   'TechSupport',\n",
       "                                                   'PaperlessBilling']),\n",
       "                                                 ('ordinal',\n",
       "                                                  OrdinalEncoder(mapping=[{'col': 'Contract',\n",
       "                                                                           'mapping': {'Month-to-month': 3,\n",
       "                                                                                       'One year': 2,\n",
       "                                                                                       'Two year': 1}}...\n",
       "                               feature_types=None, gamma=0, gpu_id=-1,\n",
       "                               grow_policy='depthwise', importance_type=None,\n",
       "                               interaction_constraints='', learning_rate=0.25,\n",
       "                               max_bin=256, max_cat_threshold=64,\n",
       "                               max_cat_to_onehot=4, max_delta_step=0,\n",
       "                               max_depth=3, max_leaves=0, min_child_weight=1,\n",
       "                               missing=nan, monotone_constraints='()',\n",
       "                               n_estimators=50, n_jobs=0, num_parallel_tree=1,\n",
       "                               predictor='auto', random_state=42, ...))])"
      ]
     },
     "execution_count": 61,
     "metadata": {},
     "output_type": "execute_result"
    }
   ],
   "source": [
    "best_model.fit(x,y)"
   ]
  },
  {
   "cell_type": "code",
   "execution_count": 73,
   "id": "202f22cd-dd4b-4b3c-b009-13391000c413",
   "metadata": {},
   "outputs": [],
   "source": [
    "pickle.dump(best_model,open('best_model_XGBoost.sav','wb'))"
   ]
  },
  {
   "cell_type": "markdown",
   "id": "5988f550-6a02-45e8-b27b-4587233727f9",
   "metadata": {},
   "source": [
    "**Terima Kasih**"
   ]
  }
 ],
 "metadata": {
  "kernelspec": {
   "display_name": "Python 3 (ipykernel)",
   "language": "python",
   "name": "python3"
  },
  "language_info": {
   "codemirror_mode": {
    "name": "ipython",
    "version": 3
   },
   "file_extension": ".py",
   "mimetype": "text/x-python",
   "name": "python",
   "nbconvert_exporter": "python",
   "pygments_lexer": "ipython3",
   "version": "3.9.12"
  }
 },
 "nbformat": 4,
 "nbformat_minor": 5
}
